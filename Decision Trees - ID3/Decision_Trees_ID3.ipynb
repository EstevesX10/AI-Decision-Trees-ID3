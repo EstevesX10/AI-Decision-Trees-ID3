{
 "cells": [
  {
   "cell_type": "markdown",
   "metadata": {},
   "source": [
    "<div align=\"center\">\n",
    "\n",
    "---\n",
    "# Decision Trees - ID3 [Artificial Intelligence Project]\n",
    "---\n",
    "</div>"
   ]
  },
  {
   "cell_type": "markdown",
   "metadata": {
    "jp-MarkdownHeadingCollapsed": true
   },
   "source": [
    "<div align=\"center\">\n",
    "\n",
    "***\n",
    "## Problem Presentation\n",
    "***\n",
    "</div>\n",
    "    \n",
    "> ADD PROBLEM PRESENTATION"
   ]
  },
  {
   "cell_type": "markdown",
   "metadata": {},
   "source": [
    "<div align=\"center\">\n",
    "\n",
    "***\n",
    "## ID3 Algorithm \n",
    "***\n",
    "</div>\n",
    "\n",
    "A well-known decision tree approach for Machine Learning is the Iterative Dichotomiser 3 (ID3) algorithm. By choosing the best characteristic at each node to partition the data depending on information gain, it recursively constructs a tree. The goal is to make the final subsets as homogeneous as possible. By choosing features that offer the greatest reduction in entropy or uncertainty, ID3 iteratively grows the tree. The procedure keeps going until a halting requirement is satisfied, like a minimum subset size or a maximum tree depth. \n",
    "\n",
    "The ID3 Algorithm is specifically designed for building decision trees from a given dataset. It's primary objective is to construct a tree that best explains the relationship between attributes in the data and their corresponding class labels.\n",
    "\n",
    "**1. Selecting the Best Attribute:**\n",
    "- ID3 employs the concept of entropy and information gain to determine the attribute that best separates the data. Entropy measures the impurity or randomness in the dataset.\n",
    "- The algorithm calculates the entropy of each attribute and selects the one that results in the most significant information gain when used for splitting the data.\n",
    "\n",
    "**2. Creating Tree Nodes:**\n",
    "- The chosen attribute is used to split the dataset into subsets based on its distinct values.\n",
    "- For each subset, ID3 recurses to find the next best attribute to further partition the data, forming branches and new nodes accordingly.\n",
    "\n",
    "**3. Stopping Criteria:**\n",
    "- The recursion continues until one of the stopping criteria is met, such as when all instances in a branch belong to the same class or when all attributes have been used for splitting.\n",
    "\n",
    "**4. Handling Missing Values:**\n",
    "- ID3 can handle missing values to prevent overfitting. While not directly included in ID3, post-processing techniques or variations like C4.5 incorporate pruning to improve the tree's generalization."
   ]
  },
  {
   "cell_type": "markdown",
   "metadata": {},
   "source": [
    "<div align=\"center\">\n",
    "\n",
    "***\n",
    "## Mathematical Concepts of ID3 Algorithm\n",
    "***\n",
    "</div>\n",
    "\n",
    "### Entropy\n",
    "\n",
    "**Entropy** is a measure of disorder or uncertainty in a set of data. It is a tool used in ID3 to measure a dataset's disorder  or impurity. By dividing the data into as homogeneous subsets as feasible, the objective is to minimze entropy.\n",
    "\n",
    "For a set $S$ with classes $\\{c_1,\\space c_2,\\space ...\\space,\\space c_n \\}$, the entropy is calculated as:\n",
    "\n",
    "$$H(S) = \\sum_{i=1}^n \\space p_i \\space log_2(p_i)$$\n",
    "\n",
    "Where $p_i$ is the proportion of instances of class $c_i$ in the set.\n",
    "\n",
    "### Information Gain\n",
    "\n",
    "Information Gain measures how well a certain quality reduces uncertainty. ID3 splits the data at each stage, choosing the property that maximizes Information Gain. It is computes using the distinction between entropy prior to and following the split.\n",
    "\n",
    "Information Gain measures the effectiveness of an Attribute $A$ in reducing uncertainty in set $S$\n",
    "\n",
    "$$IG(A,S) = H(S) - \\sum_{v \\space \\in \\space values(A)} \\frac{|S_v|}{|S|} \\cdot H(S_v))$$\n",
    "\n",
    "Where, $|S_v|$ is the size of the subset of $S$ for which attribute $A$ has value $v$.\n",
    "\n",
    "### Gain Ratio (Used more in the C4.5 Algorithm)\n",
    "\n",
    "Gain Ratio is an improvement on Information Gain that considers the inherent worth of characteristics that have a wide range of possible values. It deals with the bias of Information Gan in favor of characteristics with more pronounced values.\n",
    "\n",
    "$$ GR(A,S) = \\frac{IG(A,S)}{-\\sum_{v\\space\\in\\space values(A)} \\frac{|S_v|}{|S|} \\cdot log_2(\\frac{|S_v|}{|S|})} $$"
   ]
  },
  {
   "cell_type": "markdown",
   "metadata": {
    "jp-MarkdownHeadingCollapsed": true
   },
   "source": [
    "<div align=\"center\">\n",
    "\n",
    "***\n",
    "## Problem's Resolution Approach\n",
    "***\n",
    "</div>\n",
    "\n",
    "In order to properly develop this Project, we decided to separate it into **multiple classes**:\n",
    "\n",
    "- **Node**:\n",
    "  - Structural Data Structure used inside the ID3's algorithm.\n",
    "- **Decision Tree**:\n",
    "  - Class that focuses on the implementation of the ID3's Algorithm.\n",
    "- **Dataset**:\n",
    "  - Responsible to preprocess any given dataset. This helps to properly **format / encode the data** which is going to be later fed to the algorithm."
   ]
  },
  {
   "cell_type": "markdown",
   "metadata": {},
   "source": [
    "<div align=\"center\">\n",
    "\n",
    "***\n",
    "## Importing Dependencies\n",
    "***\n",
    "</div>"
   ]
  },
  {
   "cell_type": "code",
   "execution_count": 1,
   "metadata": {},
   "outputs": [],
   "source": [
    "# Remove Warnings\n",
    "import warnings\n",
    "warnings.filterwarnings('ignore')\n",
    "\n",
    "# Importing Dependencies\n",
    "import numpy as np\n",
    "import pandas as pd\n",
    "import matplotlib.pyplot as plt\n",
    "import seaborn as sns\n",
    "\n",
    "pd.options.display.max_columns = None\n",
    "np.random.seed(1234)"
   ]
  },
  {
   "cell_type": "code",
   "execution_count": 2,
   "metadata": {},
   "outputs": [],
   "source": [
    "%load_ext autoreload\n",
    "%autoreload 2\n",
    "# from ID3 import (Node, DecisionTree)\n",
    "from MyID3 import (DecisionTree)\n",
    "from DataPreprocessing import (Dataset, Dataset_Sklearn)"
   ]
  },
  {
   "cell_type": "markdown",
   "metadata": {},
   "source": [
    "<div align=\"center\">\n",
    "\n",
    "***\n",
    "## Decision Tree - ID3 [Class]\n",
    "***\n",
    "</div>\n",
    "\n",
    "> MAYBE ADD TEXT"
   ]
  },
  {
   "cell_type": "markdown",
   "metadata": {
    "jp-MarkdownHeadingCollapsed": true
   },
   "source": [
    "<div align=\"center\">\n",
    "\n",
    "***\n",
    "## Dataset [Class]\n",
    "***\n",
    "</div>\n",
    "\n",
    "> MAYBE ADD TEXT"
   ]
  },
  {
   "cell_type": "markdown",
   "metadata": {},
   "source": [
    "<div align=\"center\">\n",
    "\n",
    "***\n",
    "## Model Evaluation upon the Datasets\n",
    "***\n",
    "</div>"
   ]
  },
  {
   "cell_type": "markdown",
   "metadata": {},
   "source": [
    "___\n",
    "### Restaurant Dataset\n",
    "___"
   ]
  },
  {
   "cell_type": "code",
   "execution_count": 3,
   "metadata": {},
   "outputs": [],
   "source": [
    "restaurant = Dataset_Sklearn('./Datasets/restaurant.csv')"
   ]
  },
  {
   "cell_type": "code",
   "execution_count": 4,
   "metadata": {},
   "outputs": [
    {
     "data": {
      "text/html": [
       "<div>\n",
       "<style scoped>\n",
       "    .dataframe tbody tr th:only-of-type {\n",
       "        vertical-align: middle;\n",
       "    }\n",
       "\n",
       "    .dataframe tbody tr th {\n",
       "        vertical-align: top;\n",
       "    }\n",
       "\n",
       "    .dataframe thead th {\n",
       "        text-align: right;\n",
       "    }\n",
       "</style>\n",
       "<table border=\"1\" class=\"dataframe\">\n",
       "  <thead>\n",
       "    <tr style=\"text-align: right;\">\n",
       "      <th></th>\n",
       "      <th>Alt</th>\n",
       "      <th>Bar</th>\n",
       "      <th>Fri</th>\n",
       "      <th>Hun</th>\n",
       "      <th>Pat</th>\n",
       "      <th>Price</th>\n",
       "      <th>Rain</th>\n",
       "      <th>Res</th>\n",
       "      <th>Type</th>\n",
       "      <th>Est</th>\n",
       "      <th>Class</th>\n",
       "    </tr>\n",
       "  </thead>\n",
       "  <tbody>\n",
       "    <tr>\n",
       "      <th>0</th>\n",
       "      <td>Yes</td>\n",
       "      <td>No</td>\n",
       "      <td>No</td>\n",
       "      <td>Yes</td>\n",
       "      <td>Some</td>\n",
       "      <td>$$$</td>\n",
       "      <td>No</td>\n",
       "      <td>Yes</td>\n",
       "      <td>French</td>\n",
       "      <td>0-10</td>\n",
       "      <td>1</td>\n",
       "    </tr>\n",
       "    <tr>\n",
       "      <th>1</th>\n",
       "      <td>Yes</td>\n",
       "      <td>No</td>\n",
       "      <td>No</td>\n",
       "      <td>Yes</td>\n",
       "      <td>Full</td>\n",
       "      <td>$</td>\n",
       "      <td>No</td>\n",
       "      <td>No</td>\n",
       "      <td>Thai</td>\n",
       "      <td>30-60</td>\n",
       "      <td>0</td>\n",
       "    </tr>\n",
       "    <tr>\n",
       "      <th>2</th>\n",
       "      <td>No</td>\n",
       "      <td>Yes</td>\n",
       "      <td>No</td>\n",
       "      <td>No</td>\n",
       "      <td>Some</td>\n",
       "      <td>$</td>\n",
       "      <td>No</td>\n",
       "      <td>No</td>\n",
       "      <td>Burger</td>\n",
       "      <td>0-10</td>\n",
       "      <td>1</td>\n",
       "    </tr>\n",
       "    <tr>\n",
       "      <th>3</th>\n",
       "      <td>Yes</td>\n",
       "      <td>No</td>\n",
       "      <td>Yes</td>\n",
       "      <td>Yes</td>\n",
       "      <td>Full</td>\n",
       "      <td>$</td>\n",
       "      <td>No</td>\n",
       "      <td>No</td>\n",
       "      <td>Thai</td>\n",
       "      <td>10-30</td>\n",
       "      <td>1</td>\n",
       "    </tr>\n",
       "    <tr>\n",
       "      <th>4</th>\n",
       "      <td>Yes</td>\n",
       "      <td>No</td>\n",
       "      <td>Yes</td>\n",
       "      <td>No</td>\n",
       "      <td>Full</td>\n",
       "      <td>$$$</td>\n",
       "      <td>No</td>\n",
       "      <td>Yes</td>\n",
       "      <td>French</td>\n",
       "      <td>&gt;60</td>\n",
       "      <td>0</td>\n",
       "    </tr>\n",
       "    <tr>\n",
       "      <th>5</th>\n",
       "      <td>No</td>\n",
       "      <td>Yes</td>\n",
       "      <td>No</td>\n",
       "      <td>Yes</td>\n",
       "      <td>Some</td>\n",
       "      <td>$$</td>\n",
       "      <td>Yes</td>\n",
       "      <td>Yes</td>\n",
       "      <td>Italian</td>\n",
       "      <td>0-10</td>\n",
       "      <td>1</td>\n",
       "    </tr>\n",
       "    <tr>\n",
       "      <th>6</th>\n",
       "      <td>No</td>\n",
       "      <td>Yes</td>\n",
       "      <td>No</td>\n",
       "      <td>No</td>\n",
       "      <td>None</td>\n",
       "      <td>$</td>\n",
       "      <td>Yes</td>\n",
       "      <td>No</td>\n",
       "      <td>Burger</td>\n",
       "      <td>0-10</td>\n",
       "      <td>0</td>\n",
       "    </tr>\n",
       "    <tr>\n",
       "      <th>7</th>\n",
       "      <td>No</td>\n",
       "      <td>No</td>\n",
       "      <td>No</td>\n",
       "      <td>Yes</td>\n",
       "      <td>Some</td>\n",
       "      <td>$$</td>\n",
       "      <td>Yes</td>\n",
       "      <td>Yes</td>\n",
       "      <td>Thai</td>\n",
       "      <td>0-10</td>\n",
       "      <td>1</td>\n",
       "    </tr>\n",
       "    <tr>\n",
       "      <th>8</th>\n",
       "      <td>No</td>\n",
       "      <td>Yes</td>\n",
       "      <td>Yes</td>\n",
       "      <td>No</td>\n",
       "      <td>Full</td>\n",
       "      <td>$</td>\n",
       "      <td>Yes</td>\n",
       "      <td>No</td>\n",
       "      <td>Burger</td>\n",
       "      <td>&gt;60</td>\n",
       "      <td>0</td>\n",
       "    </tr>\n",
       "    <tr>\n",
       "      <th>9</th>\n",
       "      <td>Yes</td>\n",
       "      <td>Yes</td>\n",
       "      <td>Yes</td>\n",
       "      <td>Yes</td>\n",
       "      <td>Full</td>\n",
       "      <td>$$$</td>\n",
       "      <td>No</td>\n",
       "      <td>Yes</td>\n",
       "      <td>Italian</td>\n",
       "      <td>10-30</td>\n",
       "      <td>0</td>\n",
       "    </tr>\n",
       "    <tr>\n",
       "      <th>10</th>\n",
       "      <td>No</td>\n",
       "      <td>No</td>\n",
       "      <td>No</td>\n",
       "      <td>No</td>\n",
       "      <td>None</td>\n",
       "      <td>$</td>\n",
       "      <td>No</td>\n",
       "      <td>No</td>\n",
       "      <td>Thai</td>\n",
       "      <td>0-10</td>\n",
       "      <td>0</td>\n",
       "    </tr>\n",
       "    <tr>\n",
       "      <th>11</th>\n",
       "      <td>Yes</td>\n",
       "      <td>Yes</td>\n",
       "      <td>Yes</td>\n",
       "      <td>Yes</td>\n",
       "      <td>Full</td>\n",
       "      <td>$</td>\n",
       "      <td>No</td>\n",
       "      <td>No</td>\n",
       "      <td>Burger</td>\n",
       "      <td>30-60</td>\n",
       "      <td>1</td>\n",
       "    </tr>\n",
       "  </tbody>\n",
       "</table>\n",
       "</div>"
      ],
      "text/plain": [
       "    Alt  Bar  Fri  Hun   Pat Price Rain  Res     Type    Est  Class\n",
       "0   Yes   No   No  Yes  Some   $$$   No  Yes   French   0-10      1\n",
       "1   Yes   No   No  Yes  Full     $   No   No     Thai  30-60      0\n",
       "2    No  Yes   No   No  Some     $   No   No   Burger   0-10      1\n",
       "3   Yes   No  Yes  Yes  Full     $   No   No     Thai  10-30      1\n",
       "4   Yes   No  Yes   No  Full   $$$   No  Yes   French    >60      0\n",
       "5    No  Yes   No  Yes  Some    $$  Yes  Yes  Italian   0-10      1\n",
       "6    No  Yes   No   No  None     $  Yes   No   Burger   0-10      0\n",
       "7    No   No   No  Yes  Some    $$  Yes  Yes     Thai   0-10      1\n",
       "8    No  Yes  Yes   No  Full     $  Yes   No   Burger    >60      0\n",
       "9   Yes  Yes  Yes  Yes  Full   $$$   No  Yes  Italian  10-30      0\n",
       "10   No   No   No   No  None     $   No   No     Thai   0-10      0\n",
       "11  Yes  Yes  Yes  Yes  Full     $   No   No   Burger  30-60      1"
      ]
     },
     "execution_count": 4,
     "metadata": {},
     "output_type": "execute_result"
    }
   ],
   "source": [
    "restaurant.df"
   ]
  },
  {
   "cell_type": "code",
   "execution_count": 5,
   "metadata": {},
   "outputs": [
    {
     "data": {
      "text/plain": [
       "array([1, 0, 1, 1, 0, 1, 0, 1, 0, 0, 0, 1])"
      ]
     },
     "execution_count": 5,
     "metadata": {},
     "output_type": "execute_result"
    }
   ],
   "source": [
    "restaurant.target"
   ]
  },
  {
   "cell_type": "code",
   "execution_count": 6,
   "metadata": {},
   "outputs": [],
   "source": [
    "x_train, x_test, y_train, y_test = restaurant.train_test_split()"
   ]
  },
  {
   "cell_type": "code",
   "execution_count": 7,
   "metadata": {
    "scrolled": true
   },
   "outputs": [],
   "source": [
    "dt = DecisionTree()\n",
    "dt.fit(x_train, y_train)"
   ]
  },
  {
   "cell_type": "code",
   "execution_count": 8,
   "metadata": {
    "scrolled": true
   },
   "outputs": [
    {
     "name": "stdout",
     "output_type": "stream",
     "text": [
      " Node: Pat (IG: 0.42)\n",
      " Branch: Pat == Full\n",
      "   Node: Est (IG: 0.54)\n",
      "   Branch: Est == 10-30\n",
      "     Leaf: Class No [1/1]\n",
      "   Branch: Est == 30-60\n",
      "     Leaf: Class Yes [1/1]\n",
      "   Branch: Est == >60\n",
      "     Leaf: Class No [2/2]\n",
      " Branch: Pat == None\n",
      "   Leaf: Class No [1/1]\n",
      " Branch: Pat == Some\n",
      "   Leaf: Class Yes [3/3]\n"
     ]
    }
   ],
   "source": [
    "dt.print_tree(restaurant)"
   ]
  },
  {
   "cell_type": "code",
   "execution_count": 9,
   "metadata": {},
   "outputs": [
    {
     "data": {
      "image/svg+xml": [
       "<?xml version=\"1.0\" encoding=\"UTF-8\" standalone=\"no\"?>\r\n",
       "<!DOCTYPE svg PUBLIC \"-//W3C//DTD SVG 1.1//EN\"\r\n",
       " \"http://www.w3.org/Graphics/SVG/1.1/DTD/svg11.dtd\">\r\n",
       "<!-- Generated by graphviz version 2.38.0 (20140413.2041)\r\n",
       " -->\r\n",
       "<!-- Title: %3 Pages: 1 -->\r\n",
       "<svg width=\"327pt\" height=\"218pt\"\r\n",
       " viewBox=\"0.00 0.00 327.00 218.00\" xmlns=\"http://www.w3.org/2000/svg\" xmlns:xlink=\"http://www.w3.org/1999/xlink\">\r\n",
       "<g id=\"graph0\" class=\"graph\" transform=\"scale(1 1) rotate(0) translate(4 214)\">\r\n",
       "<title>%3</title>\r\n",
       "<polygon fill=\"white\" stroke=\"none\" points=\"-4,4 -4,-214 323,-214 323,4 -4,4\"/>\r\n",
       "<!-- internal_0 -->\r\n",
       "<g id=\"node1\" class=\"node\"><title>internal_0</title>\r\n",
       "<ellipse fill=\"#b2dfee\" stroke=\"#b2dfee\" cx=\"201\" cy=\"-192\" rx=\"35.194\" ry=\"18\"/>\r\n",
       "<text text-anchor=\"middle\" x=\"201\" y=\"-188.3\" font-family=\"Times New Roman,serif\" font-size=\"14.00\">Pat [8]</text>\r\n",
       "</g>\r\n",
       "<!-- internal_1 -->\r\n",
       "<g id=\"node2\" class=\"node\"><title>internal_1</title>\r\n",
       "<ellipse fill=\"#b2dfee\" stroke=\"#b2dfee\" cx=\"116\" cy=\"-105\" rx=\"35.194\" ry=\"18\"/>\r\n",
       "<text text-anchor=\"middle\" x=\"116\" y=\"-101.3\" font-family=\"Times New Roman,serif\" font-size=\"14.00\">Est [4]</text>\r\n",
       "</g>\r\n",
       "<!-- internal_0&#45;&gt;internal_1 -->\r\n",
       "<g id=\"edge1\" class=\"edge\"><title>internal_0&#45;&gt;internal_1</title>\r\n",
       "<path fill=\"none\" stroke=\"black\" d=\"M185.41,-175.41C172.349,-162.349 153.53,-143.53 138.781,-128.781\"/>\r\n",
       "<polygon fill=\"black\" stroke=\"black\" points=\"141.037,-126.088 131.491,-121.491 136.088,-131.037 141.037,-126.088\"/>\r\n",
       "<text text-anchor=\"middle\" x=\"175\" y=\"-144.8\" font-family=\"Times New Roman,serif\" font-size=\"14.00\">Full</text>\r\n",
       "</g>\r\n",
       "<!-- leaf_5 -->\r\n",
       "<g id=\"node6\" class=\"node\"><title>leaf_5</title>\r\n",
       "<polygon fill=\"#b2dfee\" stroke=\"#b2dfee\" points=\"233,-123 169,-123 169,-87 233,-87 233,-123\"/>\r\n",
       "<text text-anchor=\"middle\" x=\"201\" y=\"-101.3\" font-family=\"Times New Roman,serif\" font-size=\"14.00\">No [1/1]</text>\r\n",
       "</g>\r\n",
       "<!-- internal_0&#45;&gt;leaf_5 -->\r\n",
       "<g id=\"edge5\" class=\"edge\"><title>internal_0&#45;&gt;leaf_5</title>\r\n",
       "<path fill=\"none\" stroke=\"black\" d=\"M201,-173.799C201,-162.163 201,-146.548 201,-133.237\"/>\r\n",
       "<polygon fill=\"black\" stroke=\"black\" points=\"204.5,-133.175 201,-123.175 197.5,-133.175 204.5,-133.175\"/>\r\n",
       "<text text-anchor=\"middle\" x=\"216.5\" y=\"-144.8\" font-family=\"Times New Roman,serif\" font-size=\"14.00\">None</text>\r\n",
       "</g>\r\n",
       "<!-- leaf_6 -->\r\n",
       "<g id=\"node7\" class=\"node\"><title>leaf_6</title>\r\n",
       "<polygon fill=\"#b2dfee\" stroke=\"#b2dfee\" points=\"319,-123 251,-123 251,-87 319,-87 319,-123\"/>\r\n",
       "<text text-anchor=\"middle\" x=\"285\" y=\"-101.3\" font-family=\"Times New Roman,serif\" font-size=\"14.00\">Yes [3/3]</text>\r\n",
       "</g>\r\n",
       "<!-- internal_0&#45;&gt;leaf_6 -->\r\n",
       "<g id=\"edge6\" class=\"edge\"><title>internal_0&#45;&gt;leaf_6</title>\r\n",
       "<path fill=\"none\" stroke=\"black\" d=\"M216.367,-175.7C222.49,-169.587 229.592,-162.473 236,-156 244.249,-147.668 253.239,-138.515 261.24,-130.343\"/>\r\n",
       "<polygon fill=\"black\" stroke=\"black\" points=\"263.77,-132.762 268.261,-123.166 258.766,-127.867 263.77,-132.762\"/>\r\n",
       "<text text-anchor=\"middle\" x=\"265.5\" y=\"-144.8\" font-family=\"Times New Roman,serif\" font-size=\"14.00\">Some</text>\r\n",
       "</g>\r\n",
       "<!-- leaf_2 -->\r\n",
       "<g id=\"node3\" class=\"node\"><title>leaf_2</title>\r\n",
       "<polygon fill=\"#b2dfee\" stroke=\"#b2dfee\" points=\"64,-36 0,-36 0,-0 64,-0 64,-36\"/>\r\n",
       "<text text-anchor=\"middle\" x=\"32\" y=\"-14.3\" font-family=\"Times New Roman,serif\" font-size=\"14.00\">No [1/1]</text>\r\n",
       "</g>\r\n",
       "<!-- internal_1&#45;&gt;leaf_2 -->\r\n",
       "<g id=\"edge2\" class=\"edge\"><title>internal_1&#45;&gt;leaf_2</title>\r\n",
       "<path fill=\"none\" stroke=\"black\" d=\"M100.113,-88.7834C93.8045,-82.6814 86.5129,-75.5543 80,-69 71.9847,-60.9339 63.3463,-52.0096 55.6369,-43.9598\"/>\r\n",
       "<polygon fill=\"black\" stroke=\"black\" points=\"57.7306,-41.0841 48.2947,-36.2657 52.6663,-45.9167 57.7306,-41.0841\"/>\r\n",
       "<text text-anchor=\"middle\" x=\"96\" y=\"-57.8\" font-family=\"Times New Roman,serif\" font-size=\"14.00\">10&#45;30</text>\r\n",
       "</g>\r\n",
       "<!-- leaf_3 -->\r\n",
       "<g id=\"node4\" class=\"node\"><title>leaf_3</title>\r\n",
       "<polygon fill=\"#b2dfee\" stroke=\"#b2dfee\" points=\"150,-36 82,-36 82,-0 150,-0 150,-36\"/>\r\n",
       "<text text-anchor=\"middle\" x=\"116\" y=\"-14.3\" font-family=\"Times New Roman,serif\" font-size=\"14.00\">Yes [1/1]</text>\r\n",
       "</g>\r\n",
       "<!-- internal_1&#45;&gt;leaf_3 -->\r\n",
       "<g id=\"edge3\" class=\"edge\"><title>internal_1&#45;&gt;leaf_3</title>\r\n",
       "<path fill=\"none\" stroke=\"black\" d=\"M116,-86.799C116,-75.1626 116,-59.5479 116,-46.2368\"/>\r\n",
       "<polygon fill=\"black\" stroke=\"black\" points=\"119.5,-46.1754 116,-36.1754 112.5,-46.1755 119.5,-46.1754\"/>\r\n",
       "<text text-anchor=\"middle\" x=\"132\" y=\"-57.8\" font-family=\"Times New Roman,serif\" font-size=\"14.00\">30&#45;60</text>\r\n",
       "</g>\r\n",
       "<!-- leaf_4 -->\r\n",
       "<g id=\"node5\" class=\"node\"><title>leaf_4</title>\r\n",
       "<polygon fill=\"#b2dfee\" stroke=\"#b2dfee\" points=\"232,-36 168,-36 168,-0 232,-0 232,-36\"/>\r\n",
       "<text text-anchor=\"middle\" x=\"200\" y=\"-14.3\" font-family=\"Times New Roman,serif\" font-size=\"14.00\">No [2/2]</text>\r\n",
       "</g>\r\n",
       "<!-- internal_1&#45;&gt;leaf_4 -->\r\n",
       "<g id=\"edge4\" class=\"edge\"><title>internal_1&#45;&gt;leaf_4</title>\r\n",
       "<path fill=\"none\" stroke=\"black\" d=\"M131.887,-88.7834C138.196,-82.6814 145.487,-75.5543 152,-69 160.015,-60.9339 168.654,-52.0096 176.363,-43.9598\"/>\r\n",
       "<polygon fill=\"black\" stroke=\"black\" points=\"179.334,-45.9167 183.705,-36.2657 174.269,-41.0841 179.334,-45.9167\"/>\r\n",
       "<text text-anchor=\"middle\" x=\"178\" y=\"-57.8\" font-family=\"Times New Roman,serif\" font-size=\"14.00\">&gt;60</text>\r\n",
       "</g>\r\n",
       "</g>\r\n",
       "</svg>\r\n"
      ],
      "text/plain": [
       "<graphviz.dot.Digraph at 0x13085b82d70>"
      ]
     },
     "execution_count": 9,
     "metadata": {},
     "output_type": "execute_result"
    }
   ],
   "source": [
    "dt.visualize_tree(restaurant)"
   ]
  },
  {
   "cell_type": "code",
   "execution_count": 10,
   "metadata": {},
   "outputs": [
    {
     "data": {
      "text/plain": [
       "1.0"
      ]
     },
     "execution_count": 10,
     "metadata": {},
     "output_type": "execute_result"
    }
   ],
   "source": [
    "# Treino\n",
    "y_pred = dt.predict(x_train)\n",
    "dt.score(y_pred, y_train)"
   ]
  },
  {
   "cell_type": "code",
   "execution_count": 11,
   "metadata": {},
   "outputs": [
    {
     "data": {
      "text/plain": [
       "0.5"
      ]
     },
     "execution_count": 11,
     "metadata": {},
     "output_type": "execute_result"
    }
   ],
   "source": [
    "# Teste\n",
    "y_pred = dt.predict(x_test)\n",
    "dt.score(y_pred, y_test)"
   ]
  },
  {
   "cell_type": "markdown",
   "metadata": {},
   "source": [
    "___\n",
    "### Weather Dataset\n",
    "___"
   ]
  },
  {
   "cell_type": "code",
   "execution_count": 12,
   "metadata": {},
   "outputs": [],
   "source": [
    "weather = Dataset_Sklearn('./Datasets/weather.csv')"
   ]
  },
  {
   "cell_type": "code",
   "execution_count": 13,
   "metadata": {},
   "outputs": [
    {
     "data": {
      "text/html": [
       "<div>\n",
       "<style scoped>\n",
       "    .dataframe tbody tr th:only-of-type {\n",
       "        vertical-align: middle;\n",
       "    }\n",
       "\n",
       "    .dataframe tbody tr th {\n",
       "        vertical-align: top;\n",
       "    }\n",
       "\n",
       "    .dataframe thead th {\n",
       "        text-align: right;\n",
       "    }\n",
       "</style>\n",
       "<table border=\"1\" class=\"dataframe\">\n",
       "  <thead>\n",
       "    <tr style=\"text-align: right;\">\n",
       "      <th></th>\n",
       "      <th>Weather</th>\n",
       "      <th>Temp</th>\n",
       "      <th>Humidity</th>\n",
       "      <th>Windy</th>\n",
       "      <th>Play</th>\n",
       "    </tr>\n",
       "  </thead>\n",
       "  <tbody>\n",
       "    <tr>\n",
       "      <th>0</th>\n",
       "      <td>sunny</td>\n",
       "      <td>(75.5, 85.0]</td>\n",
       "      <td>(74.5, 90.0]</td>\n",
       "      <td>False</td>\n",
       "      <td>0</td>\n",
       "    </tr>\n",
       "    <tr>\n",
       "      <th>1</th>\n",
       "      <td>sunny</td>\n",
       "      <td>(75.5, 85.0]</td>\n",
       "      <td>(74.5, 90.0]</td>\n",
       "      <td>True</td>\n",
       "      <td>0</td>\n",
       "    </tr>\n",
       "    <tr>\n",
       "      <th>2</th>\n",
       "      <td>overcast</td>\n",
       "      <td>(75.5, 85.0]</td>\n",
       "      <td>(74.5, 90.0]</td>\n",
       "      <td>False</td>\n",
       "      <td>1</td>\n",
       "    </tr>\n",
       "    <tr>\n",
       "      <th>3</th>\n",
       "      <td>rainy</td>\n",
       "      <td>(69.9, 75.5]</td>\n",
       "      <td>(90.0, 96.0]</td>\n",
       "      <td>False</td>\n",
       "      <td>1</td>\n",
       "    </tr>\n",
       "    <tr>\n",
       "      <th>4</th>\n",
       "      <td>rainy</td>\n",
       "      <td>(63.999, 69.9]</td>\n",
       "      <td>(74.5, 90.0]</td>\n",
       "      <td>False</td>\n",
       "      <td>1</td>\n",
       "    </tr>\n",
       "    <tr>\n",
       "      <th>5</th>\n",
       "      <td>rainy</td>\n",
       "      <td>(63.999, 69.9]</td>\n",
       "      <td>(64.999, 74.5]</td>\n",
       "      <td>True</td>\n",
       "      <td>0</td>\n",
       "    </tr>\n",
       "    <tr>\n",
       "      <th>6</th>\n",
       "      <td>overcast</td>\n",
       "      <td>(63.999, 69.9]</td>\n",
       "      <td>(64.999, 74.5]</td>\n",
       "      <td>True</td>\n",
       "      <td>1</td>\n",
       "    </tr>\n",
       "    <tr>\n",
       "      <th>7</th>\n",
       "      <td>sunny</td>\n",
       "      <td>(69.9, 75.5]</td>\n",
       "      <td>(90.0, 96.0]</td>\n",
       "      <td>False</td>\n",
       "      <td>0</td>\n",
       "    </tr>\n",
       "    <tr>\n",
       "      <th>8</th>\n",
       "      <td>sunny</td>\n",
       "      <td>(63.999, 69.9]</td>\n",
       "      <td>(64.999, 74.5]</td>\n",
       "      <td>False</td>\n",
       "      <td>1</td>\n",
       "    </tr>\n",
       "    <tr>\n",
       "      <th>9</th>\n",
       "      <td>rainy</td>\n",
       "      <td>(69.9, 75.5]</td>\n",
       "      <td>(74.5, 90.0]</td>\n",
       "      <td>False</td>\n",
       "      <td>1</td>\n",
       "    </tr>\n",
       "    <tr>\n",
       "      <th>10</th>\n",
       "      <td>sunny</td>\n",
       "      <td>(69.9, 75.5]</td>\n",
       "      <td>(64.999, 74.5]</td>\n",
       "      <td>True</td>\n",
       "      <td>1</td>\n",
       "    </tr>\n",
       "    <tr>\n",
       "      <th>11</th>\n",
       "      <td>overcast</td>\n",
       "      <td>(69.9, 75.5]</td>\n",
       "      <td>(74.5, 90.0]</td>\n",
       "      <td>True</td>\n",
       "      <td>1</td>\n",
       "    </tr>\n",
       "    <tr>\n",
       "      <th>12</th>\n",
       "      <td>overcast</td>\n",
       "      <td>(75.5, 85.0]</td>\n",
       "      <td>(74.5, 90.0]</td>\n",
       "      <td>False</td>\n",
       "      <td>1</td>\n",
       "    </tr>\n",
       "    <tr>\n",
       "      <th>13</th>\n",
       "      <td>rainy</td>\n",
       "      <td>(69.9, 75.5]</td>\n",
       "      <td>(90.0, 96.0]</td>\n",
       "      <td>True</td>\n",
       "      <td>0</td>\n",
       "    </tr>\n",
       "  </tbody>\n",
       "</table>\n",
       "</div>"
      ],
      "text/plain": [
       "     Weather            Temp        Humidity  Windy  Play\n",
       "0      sunny    (75.5, 85.0]    (74.5, 90.0]  False     0\n",
       "1      sunny    (75.5, 85.0]    (74.5, 90.0]   True     0\n",
       "2   overcast    (75.5, 85.0]    (74.5, 90.0]  False     1\n",
       "3      rainy    (69.9, 75.5]    (90.0, 96.0]  False     1\n",
       "4      rainy  (63.999, 69.9]    (74.5, 90.0]  False     1\n",
       "5      rainy  (63.999, 69.9]  (64.999, 74.5]   True     0\n",
       "6   overcast  (63.999, 69.9]  (64.999, 74.5]   True     1\n",
       "7      sunny    (69.9, 75.5]    (90.0, 96.0]  False     0\n",
       "8      sunny  (63.999, 69.9]  (64.999, 74.5]  False     1\n",
       "9      rainy    (69.9, 75.5]    (74.5, 90.0]  False     1\n",
       "10     sunny    (69.9, 75.5]  (64.999, 74.5]   True     1\n",
       "11  overcast    (69.9, 75.5]    (74.5, 90.0]   True     1\n",
       "12  overcast    (75.5, 85.0]    (74.5, 90.0]  False     1\n",
       "13     rainy    (69.9, 75.5]    (90.0, 96.0]   True     0"
      ]
     },
     "execution_count": 13,
     "metadata": {},
     "output_type": "execute_result"
    }
   ],
   "source": [
    "weather.df"
   ]
  },
  {
   "cell_type": "code",
   "execution_count": 14,
   "metadata": {},
   "outputs": [
    {
     "data": {
      "text/plain": [
       "array([0, 0, 1, 1, 1, 0, 1, 0, 1, 1, 1, 1, 1, 0])"
      ]
     },
     "execution_count": 14,
     "metadata": {},
     "output_type": "execute_result"
    }
   ],
   "source": [
    "weather.target"
   ]
  },
  {
   "cell_type": "code",
   "execution_count": 15,
   "metadata": {},
   "outputs": [],
   "source": [
    "x_train, x_test, y_train, y_test = weather.train_test_split()"
   ]
  },
  {
   "cell_type": "code",
   "execution_count": 16,
   "metadata": {},
   "outputs": [],
   "source": [
    "dt = DecisionTree()\n",
    "dt.fit(x_train, y_train)"
   ]
  },
  {
   "cell_type": "code",
   "execution_count": 17,
   "metadata": {},
   "outputs": [
    {
     "name": "stdout",
     "output_type": "stream",
     "text": [
      " Node: Weather (IG: 0.40)\n",
      " Branch: Weather == overcast\n",
      "   Leaf: Class yes [4/4]\n",
      " Branch: Weather == rainy\n",
      "   Node: Windy (IG: 1.00)\n",
      "   Branch: Windy == False\n",
      "     Leaf: Class yes [2/2]\n",
      "   Branch: Windy == True\n",
      "     Leaf: Class no [1/1]\n",
      " Branch: Weather == sunny\n",
      "   Leaf: Class no [2/2]\n"
     ]
    }
   ],
   "source": [
    "dt.print_tree(weather)"
   ]
  },
  {
   "cell_type": "code",
   "execution_count": 18,
   "metadata": {},
   "outputs": [
    {
     "data": {
      "image/svg+xml": [
       "<?xml version=\"1.0\" encoding=\"UTF-8\" standalone=\"no\"?>\r\n",
       "<!DOCTYPE svg PUBLIC \"-//W3C//DTD SVG 1.1//EN\"\r\n",
       " \"http://www.w3.org/Graphics/SVG/1.1/DTD/svg11.dtd\">\r\n",
       "<!-- Generated by graphviz version 2.38.0 (20140413.2041)\r\n",
       " -->\r\n",
       "<!-- Title: %3 Pages: 1 -->\r\n",
       "<svg width=\"267pt\" height=\"218pt\"\r\n",
       " viewBox=\"0.00 0.00 267.00 218.00\" xmlns=\"http://www.w3.org/2000/svg\" xmlns:xlink=\"http://www.w3.org/1999/xlink\">\r\n",
       "<g id=\"graph0\" class=\"graph\" transform=\"scale(1 1) rotate(0) translate(4 214)\">\r\n",
       "<title>%3</title>\r\n",
       "<polygon fill=\"white\" stroke=\"none\" points=\"-4,4 -4,-214 263,-214 263,4 -4,4\"/>\r\n",
       "<!-- internal_0 -->\r\n",
       "<g id=\"node1\" class=\"node\"><title>internal_0</title>\r\n",
       "<ellipse fill=\"#b2dfee\" stroke=\"#b2dfee\" cx=\"131.5\" cy=\"-192\" rx=\"53.8905\" ry=\"18\"/>\r\n",
       "<text text-anchor=\"middle\" x=\"131.5\" y=\"-188.3\" font-family=\"Times New Roman,serif\" font-size=\"14.00\">Weather [9]</text>\r\n",
       "</g>\r\n",
       "<!-- leaf_1 -->\r\n",
       "<g id=\"node2\" class=\"node\"><title>leaf_1</title>\r\n",
       "<polygon fill=\"#b2dfee\" stroke=\"#b2dfee\" points=\"65,-123 0,-123 0,-87 65,-87 65,-123\"/>\r\n",
       "<text text-anchor=\"middle\" x=\"32.5\" y=\"-101.3\" font-family=\"Times New Roman,serif\" font-size=\"14.00\">yes [4/4]</text>\r\n",
       "</g>\r\n",
       "<!-- internal_0&#45;&gt;leaf_1 -->\r\n",
       "<g id=\"edge1\" class=\"edge\"><title>internal_0&#45;&gt;leaf_1</title>\r\n",
       "<path fill=\"none\" stroke=\"black\" d=\"M106.607,-175.872C97.7361,-170.067 87.8754,-163.117 79.5,-156 70.4642,-148.321 61.35,-139.056 53.5842,-130.597\"/>\r\n",
       "<polygon fill=\"black\" stroke=\"black\" points=\"56.1587,-128.226 46.8723,-123.126 50.9511,-132.904 56.1587,-128.226\"/>\r\n",
       "<text text-anchor=\"middle\" x=\"103.5\" y=\"-144.8\" font-family=\"Times New Roman,serif\" font-size=\"14.00\">overcast</text>\r\n",
       "</g>\r\n",
       "<!-- internal_2 -->\r\n",
       "<g id=\"node3\" class=\"node\"><title>internal_2</title>\r\n",
       "<ellipse fill=\"#b2dfee\" stroke=\"#b2dfee\" cx=\"131.5\" cy=\"-105\" rx=\"48.1917\" ry=\"18\"/>\r\n",
       "<text text-anchor=\"middle\" x=\"131.5\" y=\"-101.3\" font-family=\"Times New Roman,serif\" font-size=\"14.00\">Windy [3]</text>\r\n",
       "</g>\r\n",
       "<!-- internal_0&#45;&gt;internal_2 -->\r\n",
       "<g id=\"edge2\" class=\"edge\"><title>internal_0&#45;&gt;internal_2</title>\r\n",
       "<path fill=\"none\" stroke=\"black\" d=\"M131.5,-173.799C131.5,-162.163 131.5,-146.548 131.5,-133.237\"/>\r\n",
       "<polygon fill=\"black\" stroke=\"black\" points=\"135,-133.175 131.5,-123.175 128,-133.175 135,-133.175\"/>\r\n",
       "<text text-anchor=\"middle\" x=\"145.5\" y=\"-144.8\" font-family=\"Times New Roman,serif\" font-size=\"14.00\">rainy</text>\r\n",
       "</g>\r\n",
       "<!-- leaf_5 -->\r\n",
       "<g id=\"node6\" class=\"node\"><title>leaf_5</title>\r\n",
       "<polygon fill=\"#b2dfee\" stroke=\"#b2dfee\" points=\"259,-123 198,-123 198,-87 259,-87 259,-123\"/>\r\n",
       "<text text-anchor=\"middle\" x=\"228.5\" y=\"-101.3\" font-family=\"Times New Roman,serif\" font-size=\"14.00\">no [2/2]</text>\r\n",
       "</g>\r\n",
       "<!-- internal_0&#45;&gt;leaf_5 -->\r\n",
       "<g id=\"edge5\" class=\"edge\"><title>internal_0&#45;&gt;leaf_5</title>\r\n",
       "<path fill=\"none\" stroke=\"black\" d=\"M149.745,-175.012C164.271,-162.283 184.826,-144.271 201.294,-129.84\"/>\r\n",
       "<polygon fill=\"black\" stroke=\"black\" points=\"203.791,-132.306 209.005,-123.083 199.178,-127.041 203.791,-132.306\"/>\r\n",
       "<text text-anchor=\"middle\" x=\"203.5\" y=\"-144.8\" font-family=\"Times New Roman,serif\" font-size=\"14.00\">sunny</text>\r\n",
       "</g>\r\n",
       "<!-- leaf_3 -->\r\n",
       "<g id=\"node4\" class=\"node\"><title>leaf_3</title>\r\n",
       "<polygon fill=\"#b2dfee\" stroke=\"#b2dfee\" points=\"123,-36 58,-36 58,-0 123,-0 123,-36\"/>\r\n",
       "<text text-anchor=\"middle\" x=\"90.5\" y=\"-14.3\" font-family=\"Times New Roman,serif\" font-size=\"14.00\">yes [2/2]</text>\r\n",
       "</g>\r\n",
       "<!-- internal_2&#45;&gt;leaf_3 -->\r\n",
       "<g id=\"edge3\" class=\"edge\"><title>internal_2&#45;&gt;leaf_3</title>\r\n",
       "<path fill=\"none\" stroke=\"black\" d=\"M123.4,-87.2067C117.653,-75.2934 109.825,-59.0634 103.246,-45.4242\"/>\r\n",
       "<polygon fill=\"black\" stroke=\"black\" points=\"106.221,-43.5357 98.7238,-36.0493 99.9159,-46.5769 106.221,-43.5357\"/>\r\n",
       "<text text-anchor=\"middle\" x=\"128.5\" y=\"-57.8\" font-family=\"Times New Roman,serif\" font-size=\"14.00\">False</text>\r\n",
       "</g>\r\n",
       "<!-- leaf_4 -->\r\n",
       "<g id=\"node5\" class=\"node\"><title>leaf_4</title>\r\n",
       "<polygon fill=\"#b2dfee\" stroke=\"#b2dfee\" points=\"202,-36 141,-36 141,-0 202,-0 202,-36\"/>\r\n",
       "<text text-anchor=\"middle\" x=\"171.5\" y=\"-14.3\" font-family=\"Times New Roman,serif\" font-size=\"14.00\">no [1/1]</text>\r\n",
       "</g>\r\n",
       "<!-- internal_2&#45;&gt;leaf_4 -->\r\n",
       "<g id=\"edge4\" class=\"edge\"><title>internal_2&#45;&gt;leaf_4</title>\r\n",
       "<path fill=\"none\" stroke=\"black\" d=\"M139.403,-87.2067C145.009,-75.2934 152.647,-59.0634 159.065,-45.4242\"/>\r\n",
       "<polygon fill=\"black\" stroke=\"black\" points=\"162.386,-46.5878 163.477,-36.0493 156.052,-43.6072 162.386,-46.5878\"/>\r\n",
       "<text text-anchor=\"middle\" x=\"168\" y=\"-57.8\" font-family=\"Times New Roman,serif\" font-size=\"14.00\">True</text>\r\n",
       "</g>\r\n",
       "</g>\r\n",
       "</svg>\r\n"
      ],
      "text/plain": [
       "<graphviz.dot.Digraph at 0x13085c1cd00>"
      ]
     },
     "execution_count": 18,
     "metadata": {},
     "output_type": "execute_result"
    }
   ],
   "source": [
    "dt.visualize_tree(weather)"
   ]
  },
  {
   "cell_type": "code",
   "execution_count": 19,
   "metadata": {},
   "outputs": [
    {
     "data": {
      "text/plain": [
       "1.0"
      ]
     },
     "execution_count": 19,
     "metadata": {},
     "output_type": "execute_result"
    }
   ],
   "source": [
    "# Treino\n",
    "y_pred = dt.predict(x_train)\n",
    "dt.score(y_pred, y_train)"
   ]
  },
  {
   "cell_type": "code",
   "execution_count": 20,
   "metadata": {},
   "outputs": [
    {
     "data": {
      "text/plain": [
       "0.6"
      ]
     },
     "execution_count": 20,
     "metadata": {},
     "output_type": "execute_result"
    }
   ],
   "source": [
    "# Teste\n",
    "y_pred = dt.predict(x_test)\n",
    "dt.score(y_pred, y_test)"
   ]
  },
  {
   "cell_type": "markdown",
   "metadata": {},
   "source": [
    "___\n",
    "### Iris Dataset\n",
    "___"
   ]
  },
  {
   "cell_type": "code",
   "execution_count": 21,
   "metadata": {},
   "outputs": [],
   "source": [
    "iris = Dataset_Sklearn('./Datasets/iris.csv')"
   ]
  },
  {
   "cell_type": "code",
   "execution_count": 22,
   "metadata": {},
   "outputs": [
    {
     "data": {
      "text/html": [
       "<div>\n",
       "<style scoped>\n",
       "    .dataframe tbody tr th:only-of-type {\n",
       "        vertical-align: middle;\n",
       "    }\n",
       "\n",
       "    .dataframe tbody tr th {\n",
       "        vertical-align: top;\n",
       "    }\n",
       "\n",
       "    .dataframe thead th {\n",
       "        text-align: right;\n",
       "    }\n",
       "</style>\n",
       "<table border=\"1\" class=\"dataframe\">\n",
       "  <thead>\n",
       "    <tr style=\"text-align: right;\">\n",
       "      <th></th>\n",
       "      <th>sepallength</th>\n",
       "      <th>sepalwidth</th>\n",
       "      <th>petallength</th>\n",
       "      <th>petalwidth</th>\n",
       "      <th>class</th>\n",
       "    </tr>\n",
       "  </thead>\n",
       "  <tbody>\n",
       "    <tr>\n",
       "      <th>0</th>\n",
       "      <td>(4.2989999999999995, 5.27]</td>\n",
       "      <td>(3.2, 4.4]</td>\n",
       "      <td>(0.999, 1.7]</td>\n",
       "      <td>(0.099, 0.4]</td>\n",
       "      <td>0</td>\n",
       "    </tr>\n",
       "    <tr>\n",
       "      <th>1</th>\n",
       "      <td>(4.2989999999999995, 5.27]</td>\n",
       "      <td>(2.8, 3.2]</td>\n",
       "      <td>(0.999, 1.7]</td>\n",
       "      <td>(0.099, 0.4]</td>\n",
       "      <td>0</td>\n",
       "    </tr>\n",
       "    <tr>\n",
       "      <th>2</th>\n",
       "      <td>(4.2989999999999995, 5.27]</td>\n",
       "      <td>(2.8, 3.2]</td>\n",
       "      <td>(0.999, 1.7]</td>\n",
       "      <td>(0.099, 0.4]</td>\n",
       "      <td>0</td>\n",
       "    </tr>\n",
       "    <tr>\n",
       "      <th>3</th>\n",
       "      <td>(4.2989999999999995, 5.27]</td>\n",
       "      <td>(2.8, 3.2]</td>\n",
       "      <td>(0.999, 1.7]</td>\n",
       "      <td>(0.099, 0.4]</td>\n",
       "      <td>0</td>\n",
       "    </tr>\n",
       "    <tr>\n",
       "      <th>4</th>\n",
       "      <td>(4.2989999999999995, 5.27]</td>\n",
       "      <td>(3.2, 4.4]</td>\n",
       "      <td>(0.999, 1.7]</td>\n",
       "      <td>(0.099, 0.4]</td>\n",
       "      <td>0</td>\n",
       "    </tr>\n",
       "    <tr>\n",
       "      <th>...</th>\n",
       "      <td>...</td>\n",
       "      <td>...</td>\n",
       "      <td>...</td>\n",
       "      <td>...</td>\n",
       "      <td>...</td>\n",
       "    </tr>\n",
       "    <tr>\n",
       "      <th>145</th>\n",
       "      <td>(6.3, 7.9]</td>\n",
       "      <td>(2.8, 3.2]</td>\n",
       "      <td>(5.0, 6.9]</td>\n",
       "      <td>(1.8, 2.5]</td>\n",
       "      <td>2</td>\n",
       "    </tr>\n",
       "    <tr>\n",
       "      <th>146</th>\n",
       "      <td>(5.27, 6.3]</td>\n",
       "      <td>(1.999, 2.8]</td>\n",
       "      <td>(1.7, 5.0]</td>\n",
       "      <td>(1.8, 2.5]</td>\n",
       "      <td>2</td>\n",
       "    </tr>\n",
       "    <tr>\n",
       "      <th>147</th>\n",
       "      <td>(6.3, 7.9]</td>\n",
       "      <td>(2.8, 3.2]</td>\n",
       "      <td>(5.0, 6.9]</td>\n",
       "      <td>(1.8, 2.5]</td>\n",
       "      <td>2</td>\n",
       "    </tr>\n",
       "    <tr>\n",
       "      <th>148</th>\n",
       "      <td>(5.27, 6.3]</td>\n",
       "      <td>(3.2, 4.4]</td>\n",
       "      <td>(5.0, 6.9]</td>\n",
       "      <td>(1.8, 2.5]</td>\n",
       "      <td>2</td>\n",
       "    </tr>\n",
       "    <tr>\n",
       "      <th>149</th>\n",
       "      <td>(5.27, 6.3]</td>\n",
       "      <td>(2.8, 3.2]</td>\n",
       "      <td>(5.0, 6.9]</td>\n",
       "      <td>(0.4, 1.8]</td>\n",
       "      <td>2</td>\n",
       "    </tr>\n",
       "  </tbody>\n",
       "</table>\n",
       "<p>150 rows × 5 columns</p>\n",
       "</div>"
      ],
      "text/plain": [
       "                    sepallength    sepalwidth   petallength    petalwidth  \\\n",
       "0    (4.2989999999999995, 5.27]    (3.2, 4.4]  (0.999, 1.7]  (0.099, 0.4]   \n",
       "1    (4.2989999999999995, 5.27]    (2.8, 3.2]  (0.999, 1.7]  (0.099, 0.4]   \n",
       "2    (4.2989999999999995, 5.27]    (2.8, 3.2]  (0.999, 1.7]  (0.099, 0.4]   \n",
       "3    (4.2989999999999995, 5.27]    (2.8, 3.2]  (0.999, 1.7]  (0.099, 0.4]   \n",
       "4    (4.2989999999999995, 5.27]    (3.2, 4.4]  (0.999, 1.7]  (0.099, 0.4]   \n",
       "..                          ...           ...           ...           ...   \n",
       "145                  (6.3, 7.9]    (2.8, 3.2]    (5.0, 6.9]    (1.8, 2.5]   \n",
       "146                 (5.27, 6.3]  (1.999, 2.8]    (1.7, 5.0]    (1.8, 2.5]   \n",
       "147                  (6.3, 7.9]    (2.8, 3.2]    (5.0, 6.9]    (1.8, 2.5]   \n",
       "148                 (5.27, 6.3]    (3.2, 4.4]    (5.0, 6.9]    (1.8, 2.5]   \n",
       "149                 (5.27, 6.3]    (2.8, 3.2]    (5.0, 6.9]    (0.4, 1.8]   \n",
       "\n",
       "     class  \n",
       "0        0  \n",
       "1        0  \n",
       "2        0  \n",
       "3        0  \n",
       "4        0  \n",
       "..     ...  \n",
       "145      2  \n",
       "146      2  \n",
       "147      2  \n",
       "148      2  \n",
       "149      2  \n",
       "\n",
       "[150 rows x 5 columns]"
      ]
     },
     "execution_count": 22,
     "metadata": {},
     "output_type": "execute_result"
    }
   ],
   "source": [
    "iris.df"
   ]
  },
  {
   "cell_type": "code",
   "execution_count": 23,
   "metadata": {},
   "outputs": [
    {
     "data": {
      "text/plain": [
       "array([0, 0, 0, 0, 0, 0, 0, 0, 0, 0, 0, 0, 0, 0, 0, 0, 0, 0, 0, 0, 0, 0,\n",
       "       0, 0, 0, 0, 0, 0, 0, 0, 0, 0, 0, 0, 0, 0, 0, 0, 0, 0, 0, 0, 0, 0,\n",
       "       0, 0, 0, 0, 0, 0, 1, 1, 1, 1, 1, 1, 1, 1, 1, 1, 1, 1, 1, 1, 1, 1,\n",
       "       1, 1, 1, 1, 1, 1, 1, 1, 1, 1, 1, 1, 1, 1, 1, 1, 1, 1, 1, 1, 1, 1,\n",
       "       1, 1, 1, 1, 1, 1, 1, 1, 1, 1, 1, 1, 2, 2, 2, 2, 2, 2, 2, 2, 2, 2,\n",
       "       2, 2, 2, 2, 2, 2, 2, 2, 2, 2, 2, 2, 2, 2, 2, 2, 2, 2, 2, 2, 2, 2,\n",
       "       2, 2, 2, 2, 2, 2, 2, 2, 2, 2, 2, 2, 2, 2, 2, 2, 2, 2])"
      ]
     },
     "execution_count": 23,
     "metadata": {},
     "output_type": "execute_result"
    }
   ],
   "source": [
    "iris.target"
   ]
  },
  {
   "cell_type": "code",
   "execution_count": 24,
   "metadata": {},
   "outputs": [],
   "source": [
    "x_train, x_test, y_train, y_test = iris.train_test_split()"
   ]
  },
  {
   "cell_type": "code",
   "execution_count": 25,
   "metadata": {},
   "outputs": [],
   "source": [
    "dt = DecisionTree()\n",
    "dt.fit(x_train, y_train)"
   ]
  },
  {
   "cell_type": "code",
   "execution_count": 26,
   "metadata": {},
   "outputs": [
    {
     "name": "stdout",
     "output_type": "stream",
     "text": [
      " Node: petallength (IG: 0.73)\n",
      " Branch: petallength == (0.999, 1.7]\n",
      "   Leaf: Class Iris-setosa [33/33]\n",
      " Branch: petallength == (1.7, 5.0]\n",
      "   Node: petalwidth (IG: 0.72)\n",
      "   Branch: petalwidth == (0.099, 0.4]\n",
      "     Leaf: Class Iris-setosa [2/2]\n",
      "   Branch: petalwidth == (0.4, 1.8]\n",
      "     Node: sepallength (IG: 0.03)\n",
      "     Branch: sepallength == (4.2989999999999995, 5.27]\n",
      "       Leaf: Class Iris-versicolor [5/6]\n",
      "     Branch: sepallength == (5.27, 6.3]\n",
      "       Node: sepalwidth (IG: 0.02)\n",
      "       Branch: sepalwidth == (1.999, 2.8]\n",
      "         Leaf: Class Iris-versicolor [13/16]\n",
      "       Branch: sepalwidth == (2.8, 3.2]\n",
      "         Leaf: Class Iris-versicolor [9/10]\n",
      "       Branch: sepalwidth == (3.2, 4.4]\n",
      "         Leaf: Class Iris-versicolor [1/1]\n",
      "     Branch: sepallength == (6.3, 7.9]\n",
      "       Leaf: Class Iris-versicolor [6/6]\n",
      "   Branch: petalwidth == (1.8, 2.5]\n",
      "     Leaf: Class Iris-virginica [3/3]\n",
      " Branch: petallength == (5.0, 6.9]\n",
      "   Node: sepallength (IG: 0.09)\n",
      "   Branch: sepallength == (5.27, 6.3]\n",
      "     Node: petalwidth (IG: 0.20)\n",
      "     Branch: petalwidth == (0.4, 1.8]\n",
      "       Leaf: Class Iris-virginica [2/3]\n",
      "     Branch: petalwidth == (1.8, 2.5]\n",
      "       Leaf: Class Iris-virginica [4/4]\n",
      "   Branch: sepallength == (6.3, 7.9]\n",
      "     Leaf: Class Iris-virginica [21/21]\n"
     ]
    }
   ],
   "source": [
    "dt.print_tree(iris)"
   ]
  },
  {
   "cell_type": "code",
   "execution_count": 27,
   "metadata": {},
   "outputs": [
    {
     "data": {
      "image/svg+xml": [
       "<?xml version=\"1.0\" encoding=\"UTF-8\" standalone=\"no\"?>\r\n",
       "<!DOCTYPE svg PUBLIC \"-//W3C//DTD SVG 1.1//EN\"\r\n",
       " \"http://www.w3.org/Graphics/SVG/1.1/DTD/svg11.dtd\">\r\n",
       "<!-- Generated by graphviz version 2.38.0 (20140413.2041)\r\n",
       " -->\r\n",
       "<!-- Title: %3 Pages: 1 -->\r\n",
       "<svg width=\"741pt\" height=\"392pt\"\r\n",
       " viewBox=\"0.00 0.00 741.00 392.00\" xmlns=\"http://www.w3.org/2000/svg\" xmlns:xlink=\"http://www.w3.org/1999/xlink\">\r\n",
       "<g id=\"graph0\" class=\"graph\" transform=\"scale(1 1) rotate(0) translate(4 388)\">\r\n",
       "<title>%3</title>\r\n",
       "<polygon fill=\"white\" stroke=\"none\" points=\"-4,4 -4,-388 737,-388 737,4 -4,4\"/>\r\n",
       "<!-- internal_0 -->\r\n",
       "<g id=\"node1\" class=\"node\"><title>internal_0</title>\r\n",
       "<ellipse fill=\"#b2dfee\" stroke=\"#b2dfee\" cx=\"327.5\" cy=\"-366\" rx=\"70.6878\" ry=\"18\"/>\r\n",
       "<text text-anchor=\"middle\" x=\"327.5\" y=\"-362.3\" font-family=\"Times New Roman,serif\" font-size=\"14.00\">petallength [105]</text>\r\n",
       "</g>\r\n",
       "<!-- leaf_1 -->\r\n",
       "<g id=\"node2\" class=\"node\"><title>leaf_1</title>\r\n",
       "<polygon fill=\"#b2dfee\" stroke=\"#b2dfee\" points=\"244.5,-297 126.5,-297 126.5,-261 244.5,-261 244.5,-297\"/>\r\n",
       "<text text-anchor=\"middle\" x=\"185.5\" y=\"-275.3\" font-family=\"Times New Roman,serif\" font-size=\"14.00\">Iris&#45;setosa [33/33]</text>\r\n",
       "</g>\r\n",
       "<!-- internal_0&#45;&gt;leaf_1 -->\r\n",
       "<g id=\"edge1\" class=\"edge\"><title>internal_0&#45;&gt;leaf_1</title>\r\n",
       "<path fill=\"none\" stroke=\"black\" d=\"M295.429,-349.824C283.635,-343.96 270.286,-336.985 258.5,-330 244.542,-321.728 229.674,-311.77 217.024,-302.926\"/>\r\n",
       "<polygon fill=\"black\" stroke=\"black\" points=\"218.846,-299.927 208.659,-297.015 214.807,-305.644 218.846,-299.927\"/>\r\n",
       "<text text-anchor=\"middle\" x=\"291\" y=\"-318.8\" font-family=\"Times New Roman,serif\" font-size=\"14.00\">(0.999, 1.7]</text>\r\n",
       "</g>\r\n",
       "<!-- internal_2 -->\r\n",
       "<g id=\"node3\" class=\"node\"><title>internal_2</title>\r\n",
       "<ellipse fill=\"#b2dfee\" stroke=\"#b2dfee\" cx=\"327.5\" cy=\"-279\" rx=\"64.9885\" ry=\"18\"/>\r\n",
       "<text text-anchor=\"middle\" x=\"327.5\" y=\"-275.3\" font-family=\"Times New Roman,serif\" font-size=\"14.00\">petalwidth [44]</text>\r\n",
       "</g>\r\n",
       "<!-- internal_0&#45;&gt;internal_2 -->\r\n",
       "<g id=\"edge2\" class=\"edge\"><title>internal_0&#45;&gt;internal_2</title>\r\n",
       "<path fill=\"none\" stroke=\"black\" d=\"M327.5,-347.799C327.5,-336.163 327.5,-320.548 327.5,-307.237\"/>\r\n",
       "<polygon fill=\"black\" stroke=\"black\" points=\"331,-307.175 327.5,-297.175 324,-307.175 331,-307.175\"/>\r\n",
       "<text text-anchor=\"middle\" x=\"353.5\" y=\"-318.8\" font-family=\"Times New Roman,serif\" font-size=\"14.00\">(1.7, 5.0]</text>\r\n",
       "</g>\r\n",
       "<!-- internal_12 -->\r\n",
       "<g id=\"node13\" class=\"node\"><title>internal_12</title>\r\n",
       "<ellipse fill=\"#b2dfee\" stroke=\"#b2dfee\" cx=\"525.5\" cy=\"-279\" rx=\"67.6881\" ry=\"18\"/>\r\n",
       "<text text-anchor=\"middle\" x=\"525.5\" y=\"-275.3\" font-family=\"Times New Roman,serif\" font-size=\"14.00\">sepallength [28]</text>\r\n",
       "</g>\r\n",
       "<!-- internal_0&#45;&gt;internal_12 -->\r\n",
       "<g id=\"edge12\" class=\"edge\"><title>internal_0&#45;&gt;internal_12</title>\r\n",
       "<path fill=\"none\" stroke=\"black\" d=\"M361.989,-350.194C395.349,-335.873 446.02,-314.12 482.105,-298.629\"/>\r\n",
       "<polygon fill=\"black\" stroke=\"black\" points=\"483.598,-301.797 491.406,-294.636 480.837,-295.365 483.598,-301.797\"/>\r\n",
       "<text text-anchor=\"middle\" x=\"464.5\" y=\"-318.8\" font-family=\"Times New Roman,serif\" font-size=\"14.00\">(5.0, 6.9]</text>\r\n",
       "</g>\r\n",
       "<!-- leaf_3 -->\r\n",
       "<g id=\"node4\" class=\"node\"><title>leaf_3</title>\r\n",
       "<polygon fill=\"#b2dfee\" stroke=\"#b2dfee\" points=\"159.5,-210 55.5,-210 55.5,-174 159.5,-174 159.5,-210\"/>\r\n",
       "<text text-anchor=\"middle\" x=\"107.5\" y=\"-188.3\" font-family=\"Times New Roman,serif\" font-size=\"14.00\">Iris&#45;setosa [2/2]</text>\r\n",
       "</g>\r\n",
       "<!-- internal_2&#45;&gt;leaf_3 -->\r\n",
       "<g id=\"edge3\" class=\"edge\"><title>internal_2&#45;&gt;leaf_3</title>\r\n",
       "<path fill=\"none\" stroke=\"black\" d=\"M282.876,-265.904C261.623,-259.737 235.993,-251.707 213.5,-243 191.975,-234.668 168.713,-223.903 149.479,-214.496\"/>\r\n",
       "<polygon fill=\"black\" stroke=\"black\" points=\"150.902,-211.295 140.387,-210.004 147.802,-217.571 150.902,-211.295\"/>\r\n",
       "<text text-anchor=\"middle\" x=\"246\" y=\"-231.8\" font-family=\"Times New Roman,serif\" font-size=\"14.00\">(0.099, 0.4]</text>\r\n",
       "</g>\r\n",
       "<!-- internal_4 -->\r\n",
       "<g id=\"node5\" class=\"node\"><title>internal_4</title>\r\n",
       "<ellipse fill=\"#b2dfee\" stroke=\"#b2dfee\" cx=\"245.5\" cy=\"-192\" rx=\"67.6881\" ry=\"18\"/>\r\n",
       "<text text-anchor=\"middle\" x=\"245.5\" y=\"-188.3\" font-family=\"Times New Roman,serif\" font-size=\"14.00\">sepallength [39]</text>\r\n",
       "</g>\r\n",
       "<!-- internal_2&#45;&gt;internal_4 -->\r\n",
       "<g id=\"edge4\" class=\"edge\"><title>internal_2&#45;&gt;internal_4</title>\r\n",
       "<path fill=\"none\" stroke=\"black\" d=\"M311.299,-261.207C299.17,-248.633 282.402,-231.252 268.829,-217.182\"/>\r\n",
       "<polygon fill=\"black\" stroke=\"black\" points=\"271.129,-214.525 261.667,-209.758 266.091,-219.385 271.129,-214.525\"/>\r\n",
       "<text text-anchor=\"middle\" x=\"317.5\" y=\"-231.8\" font-family=\"Times New Roman,serif\" font-size=\"14.00\">(0.4, 1.8]</text>\r\n",
       "</g>\r\n",
       "<!-- leaf_11 -->\r\n",
       "<g id=\"node12\" class=\"node\"><title>leaf_11</title>\r\n",
       "<polygon fill=\"#b2dfee\" stroke=\"#b2dfee\" points=\"447.5,-210 331.5,-210 331.5,-174 447.5,-174 447.5,-210\"/>\r\n",
       "<text text-anchor=\"middle\" x=\"389.5\" y=\"-188.3\" font-family=\"Times New Roman,serif\" font-size=\"14.00\">Iris&#45;virginica [3/3]</text>\r\n",
       "</g>\r\n",
       "<!-- internal_2&#45;&gt;leaf_11 -->\r\n",
       "<g id=\"edge11\" class=\"edge\"><title>internal_2&#45;&gt;leaf_11</title>\r\n",
       "<path fill=\"none\" stroke=\"black\" d=\"M339.749,-261.207C348.692,-248.946 360.97,-232.114 371.09,-218.239\"/>\r\n",
       "<polygon fill=\"black\" stroke=\"black\" points=\"373.999,-220.191 377.064,-210.049 368.343,-216.066 373.999,-220.191\"/>\r\n",
       "<text text-anchor=\"middle\" x=\"388.5\" y=\"-231.8\" font-family=\"Times New Roman,serif\" font-size=\"14.00\">(1.8, 2.5]</text>\r\n",
       "</g>\r\n",
       "<!-- leaf_5 -->\r\n",
       "<g id=\"node6\" class=\"node\"><title>leaf_5</title>\r\n",
       "<polygon fill=\"#b2dfee\" stroke=\"#b2dfee\" points=\"125,-123 0,-123 0,-87 125,-87 125,-123\"/>\r\n",
       "<text text-anchor=\"middle\" x=\"62.5\" y=\"-101.3\" font-family=\"Times New Roman,serif\" font-size=\"14.00\">Iris&#45;versicolor [5/6]</text>\r\n",
       "</g>\r\n",
       "<!-- internal_4&#45;&gt;leaf_5 -->\r\n",
       "<g id=\"edge5\" class=\"edge\"><title>internal_4&#45;&gt;leaf_5</title>\r\n",
       "<path fill=\"none\" stroke=\"black\" d=\"M195.85,-179.766C186.764,-177.788 177.356,-175.79 168.5,-174 125.094,-165.225 101.452,-187.672 70.5,-156 64.6245,-149.988 62.0222,-141.491 61.0676,-133.204\"/>\r\n",
       "<polygon fill=\"black\" stroke=\"black\" points=\"64.5558,-132.858 60.6172,-123.023 57.5627,-133.168 64.5558,-132.858\"/>\r\n",
       "<text text-anchor=\"middle\" x=\"150.5\" y=\"-144.8\" font-family=\"Times New Roman,serif\" font-size=\"14.00\">(4.2989999999999995, 5.27]</text>\r\n",
       "</g>\r\n",
       "<!-- internal_6 -->\r\n",
       "<g id=\"node7\" class=\"node\"><title>internal_6</title>\r\n",
       "<ellipse fill=\"#b2dfee\" stroke=\"#b2dfee\" cx=\"224.5\" cy=\"-105\" rx=\"66.0889\" ry=\"18\"/>\r\n",
       "<text text-anchor=\"middle\" x=\"224.5\" y=\"-101.3\" font-family=\"Times New Roman,serif\" font-size=\"14.00\">sepalwidth [27]</text>\r\n",
       "</g>\r\n",
       "<!-- internal_4&#45;&gt;internal_6 -->\r\n",
       "<g id=\"edge6\" class=\"edge\"><title>internal_4&#45;&gt;internal_6</title>\r\n",
       "<path fill=\"none\" stroke=\"black\" d=\"M241.25,-173.799C238.375,-162.163 234.518,-146.548 231.229,-133.237\"/>\r\n",
       "<polygon fill=\"black\" stroke=\"black\" points=\"234.54,-132.044 228.743,-123.175 227.744,-133.723 234.54,-132.044\"/>\r\n",
       "<text text-anchor=\"middle\" x=\"265.5\" y=\"-144.8\" font-family=\"Times New Roman,serif\" font-size=\"14.00\">(5.27, 6.3]</text>\r\n",
       "</g>\r\n",
       "<!-- leaf_10 -->\r\n",
       "<g id=\"node11\" class=\"node\"><title>leaf_10</title>\r\n",
       "<polygon fill=\"#b2dfee\" stroke=\"#b2dfee\" points=\"434,-123 309,-123 309,-87 434,-87 434,-123\"/>\r\n",
       "<text text-anchor=\"middle\" x=\"371.5\" y=\"-101.3\" font-family=\"Times New Roman,serif\" font-size=\"14.00\">Iris&#45;versicolor [6/6]</text>\r\n",
       "</g>\r\n",
       "<!-- internal_4&#45;&gt;leaf_10 -->\r\n",
       "<g id=\"edge10\" class=\"edge\"><title>internal_4&#45;&gt;leaf_10</title>\r\n",
       "<path fill=\"none\" stroke=\"black\" d=\"M269.831,-175.056C278.858,-169.108 289.167,-162.277 298.5,-156 311.549,-147.223 325.836,-137.47 338.284,-128.925\"/>\r\n",
       "<polygon fill=\"black\" stroke=\"black\" points=\"340.311,-131.778 346.569,-123.229 336.346,-126.01 340.311,-131.778\"/>\r\n",
       "<text text-anchor=\"middle\" x=\"345.5\" y=\"-144.8\" font-family=\"Times New Roman,serif\" font-size=\"14.00\">(6.3, 7.9]</text>\r\n",
       "</g>\r\n",
       "<!-- leaf_7 -->\r\n",
       "<g id=\"node8\" class=\"node\"><title>leaf_7</title>\r\n",
       "<polygon fill=\"#b2dfee\" stroke=\"#b2dfee\" points=\"140.5,-36 2.5,-36 2.5,-0 140.5,-0 140.5,-36\"/>\r\n",
       "<text text-anchor=\"middle\" x=\"71.5\" y=\"-14.3\" font-family=\"Times New Roman,serif\" font-size=\"14.00\">Iris&#45;versicolor [13/16]</text>\r\n",
       "</g>\r\n",
       "<!-- internal_6&#45;&gt;leaf_7 -->\r\n",
       "<g id=\"edge7\" class=\"edge\"><title>internal_6&#45;&gt;leaf_7</title>\r\n",
       "<path fill=\"none\" stroke=\"black\" d=\"M193.698,-88.9324C181.684,-82.9109 167.856,-75.8009 155.5,-69 139.74,-60.3253 122.63,-50.262 107.989,-41.4472\"/>\r\n",
       "<polygon fill=\"black\" stroke=\"black\" points=\"109.594,-38.3275 99.2268,-36.1437 105.97,-44.316 109.594,-38.3275\"/>\r\n",
       "<text text-anchor=\"middle\" x=\"188\" y=\"-57.8\" font-family=\"Times New Roman,serif\" font-size=\"14.00\">(1.999, 2.8]</text>\r\n",
       "</g>\r\n",
       "<!-- leaf_8 -->\r\n",
       "<g id=\"node9\" class=\"node\"><title>leaf_8</title>\r\n",
       "<polygon fill=\"#b2dfee\" stroke=\"#b2dfee\" points=\"290,-36 159,-36 159,-0 290,-0 290,-36\"/>\r\n",
       "<text text-anchor=\"middle\" x=\"224.5\" y=\"-14.3\" font-family=\"Times New Roman,serif\" font-size=\"14.00\">Iris&#45;versicolor [9/10]</text>\r\n",
       "</g>\r\n",
       "<!-- internal_6&#45;&gt;leaf_8 -->\r\n",
       "<g id=\"edge8\" class=\"edge\"><title>internal_6&#45;&gt;leaf_8</title>\r\n",
       "<path fill=\"none\" stroke=\"black\" d=\"M224.5,-86.799C224.5,-75.1626 224.5,-59.5479 224.5,-46.2368\"/>\r\n",
       "<polygon fill=\"black\" stroke=\"black\" points=\"228,-46.1754 224.5,-36.1754 221,-46.1755 228,-46.1754\"/>\r\n",
       "<text text-anchor=\"middle\" x=\"250.5\" y=\"-57.8\" font-family=\"Times New Roman,serif\" font-size=\"14.00\">(2.8, 3.2]</text>\r\n",
       "</g>\r\n",
       "<!-- leaf_9 -->\r\n",
       "<g id=\"node10\" class=\"node\"><title>leaf_9</title>\r\n",
       "<polygon fill=\"#b2dfee\" stroke=\"#b2dfee\" points=\"433,-36 308,-36 308,-0 433,-0 433,-36\"/>\r\n",
       "<text text-anchor=\"middle\" x=\"370.5\" y=\"-14.3\" font-family=\"Times New Roman,serif\" font-size=\"14.00\">Iris&#45;versicolor [1/1]</text>\r\n",
       "</g>\r\n",
       "<!-- internal_6&#45;&gt;leaf_9 -->\r\n",
       "<g id=\"edge9\" class=\"edge\"><title>internal_6&#45;&gt;leaf_9</title>\r\n",
       "<path fill=\"none\" stroke=\"black\" d=\"M251.279,-88.4097C274.033,-75.1621 306.967,-55.9886 332.456,-41.1487\"/>\r\n",
       "<polygon fill=\"black\" stroke=\"black\" points=\"334.252,-44.1533 341.133,-36.0972 330.73,-38.1038 334.252,-44.1533\"/>\r\n",
       "<text text-anchor=\"middle\" x=\"332.5\" y=\"-57.8\" font-family=\"Times New Roman,serif\" font-size=\"14.00\">(3.2, 4.4]</text>\r\n",
       "</g>\r\n",
       "<!-- internal_13 -->\r\n",
       "<g id=\"node14\" class=\"node\"><title>internal_13</title>\r\n",
       "<ellipse fill=\"#b2dfee\" stroke=\"#b2dfee\" cx=\"525.5\" cy=\"-192\" rx=\"60.3893\" ry=\"18\"/>\r\n",
       "<text text-anchor=\"middle\" x=\"525.5\" y=\"-188.3\" font-family=\"Times New Roman,serif\" font-size=\"14.00\">petalwidth [7]</text>\r\n",
       "</g>\r\n",
       "<!-- internal_12&#45;&gt;internal_13 -->\r\n",
       "<g id=\"edge13\" class=\"edge\"><title>internal_12&#45;&gt;internal_13</title>\r\n",
       "<path fill=\"none\" stroke=\"black\" d=\"M525.5,-260.799C525.5,-249.163 525.5,-233.548 525.5,-220.237\"/>\r\n",
       "<polygon fill=\"black\" stroke=\"black\" points=\"529,-220.175 525.5,-210.175 522,-220.175 529,-220.175\"/>\r\n",
       "<text text-anchor=\"middle\" x=\"554.5\" y=\"-231.8\" font-family=\"Times New Roman,serif\" font-size=\"14.00\">(5.27, 6.3]</text>\r\n",
       "</g>\r\n",
       "<!-- leaf_16 -->\r\n",
       "<g id=\"node17\" class=\"node\"><title>leaf_16</title>\r\n",
       "<polygon fill=\"#b2dfee\" stroke=\"#b2dfee\" points=\"733,-210 604,-210 604,-174 733,-174 733,-210\"/>\r\n",
       "<text text-anchor=\"middle\" x=\"668.5\" y=\"-188.3\" font-family=\"Times New Roman,serif\" font-size=\"14.00\">Iris&#45;virginica [21/21]</text>\r\n",
       "</g>\r\n",
       "<!-- internal_12&#45;&gt;leaf_16 -->\r\n",
       "<g id=\"edge16\" class=\"edge\"><title>internal_12&#45;&gt;leaf_16</title>\r\n",
       "<path fill=\"none\" stroke=\"black\" d=\"M553.41,-262.55C564.123,-256.539 576.431,-249.537 587.5,-243 602.324,-234.245 618.497,-224.335 632.467,-215.66\"/>\r\n",
       "<polygon fill=\"black\" stroke=\"black\" points=\"634.655,-218.421 641.292,-210.163 630.953,-212.479 634.655,-218.421\"/>\r\n",
       "<text text-anchor=\"middle\" x=\"637.5\" y=\"-231.8\" font-family=\"Times New Roman,serif\" font-size=\"14.00\">(6.3, 7.9]</text>\r\n",
       "</g>\r\n",
       "<!-- leaf_14 -->\r\n",
       "<g id=\"node15\" class=\"node\"><title>leaf_14</title>\r\n",
       "<polygon fill=\"#b2dfee\" stroke=\"#b2dfee\" points=\"575.5,-123 459.5,-123 459.5,-87 575.5,-87 575.5,-123\"/>\r\n",
       "<text text-anchor=\"middle\" x=\"517.5\" y=\"-101.3\" font-family=\"Times New Roman,serif\" font-size=\"14.00\">Iris&#45;virginica [2/3]</text>\r\n",
       "</g>\r\n",
       "<!-- internal_13&#45;&gt;leaf_14 -->\r\n",
       "<g id=\"edge14\" class=\"edge\"><title>internal_13&#45;&gt;leaf_14</title>\r\n",
       "<path fill=\"none\" stroke=\"black\" d=\"M523.881,-173.799C522.786,-162.163 521.316,-146.548 520.063,-133.237\"/>\r\n",
       "<polygon fill=\"black\" stroke=\"black\" points=\"523.538,-132.803 519.117,-123.175 516.569,-133.459 523.538,-132.803\"/>\r\n",
       "<text text-anchor=\"middle\" x=\"548.5\" y=\"-144.8\" font-family=\"Times New Roman,serif\" font-size=\"14.00\">(0.4, 1.8]</text>\r\n",
       "</g>\r\n",
       "<!-- leaf_15 -->\r\n",
       "<g id=\"node16\" class=\"node\"><title>leaf_15</title>\r\n",
       "<polygon fill=\"#b2dfee\" stroke=\"#b2dfee\" points=\"709.5,-123 593.5,-123 593.5,-87 709.5,-87 709.5,-123\"/>\r\n",
       "<text text-anchor=\"middle\" x=\"651.5\" y=\"-101.3\" font-family=\"Times New Roman,serif\" font-size=\"14.00\">Iris&#45;virginica [4/4]</text>\r\n",
       "</g>\r\n",
       "<!-- internal_13&#45;&gt;leaf_15 -->\r\n",
       "<g id=\"edge15\" class=\"edge\"><title>internal_13&#45;&gt;leaf_15</title>\r\n",
       "<path fill=\"none\" stroke=\"black\" d=\"M549.302,-175.405C558.453,-169.376 568.984,-162.4 578.5,-156 591.549,-147.223 605.836,-137.47 618.284,-128.925\"/>\r\n",
       "<polygon fill=\"black\" stroke=\"black\" points=\"620.311,-131.778 626.569,-123.229 616.346,-126.01 620.311,-131.778\"/>\r\n",
       "<text text-anchor=\"middle\" x=\"624.5\" y=\"-144.8\" font-family=\"Times New Roman,serif\" font-size=\"14.00\">(1.8, 2.5]</text>\r\n",
       "</g>\r\n",
       "</g>\r\n",
       "</svg>\r\n"
      ],
      "text/plain": [
       "<graphviz.dot.Digraph at 0x13085c1ead0>"
      ]
     },
     "execution_count": 27,
     "metadata": {},
     "output_type": "execute_result"
    }
   ],
   "source": [
    "dt.visualize_tree(iris)"
   ]
  },
  {
   "cell_type": "code",
   "execution_count": 28,
   "metadata": {},
   "outputs": [
    {
     "data": {
      "text/plain": [
       "0.9428571428571428"
      ]
     },
     "execution_count": 28,
     "metadata": {},
     "output_type": "execute_result"
    }
   ],
   "source": [
    "# Treino\n",
    "y_pred = dt.predict(x_train)\n",
    "dt.score(y_pred, y_train)"
   ]
  },
  {
   "cell_type": "code",
   "execution_count": 29,
   "metadata": {},
   "outputs": [
    {
     "data": {
      "text/plain": [
       "0.9777777777777777"
      ]
     },
     "execution_count": 29,
     "metadata": {},
     "output_type": "execute_result"
    }
   ],
   "source": [
    "# Teste\n",
    "y_pred = dt.predict(x_test)\n",
    "dt.score(y_pred, y_test)"
   ]
  },
  {
   "cell_type": "markdown",
   "metadata": {},
   "source": [
    "___\n",
    "### Connect-Four Dataset \n",
    "___"
   ]
  },
  {
   "cell_type": "code",
   "execution_count": 30,
   "metadata": {},
   "outputs": [],
   "source": [
    "connect4 = Dataset_Sklearn('./Datasets/connect4.csv')"
   ]
  },
  {
   "cell_type": "code",
   "execution_count": 31,
   "metadata": {},
   "outputs": [
    {
     "data": {
      "text/html": [
       "<div>\n",
       "<style scoped>\n",
       "    .dataframe tbody tr th:only-of-type {\n",
       "        vertical-align: middle;\n",
       "    }\n",
       "\n",
       "    .dataframe tbody tr th {\n",
       "        vertical-align: top;\n",
       "    }\n",
       "\n",
       "    .dataframe thead th {\n",
       "        text-align: right;\n",
       "    }\n",
       "</style>\n",
       "<table border=\"1\" class=\"dataframe\">\n",
       "  <thead>\n",
       "    <tr style=\"text-align: right;\">\n",
       "      <th></th>\n",
       "      <th>X1</th>\n",
       "      <th>X2</th>\n",
       "      <th>X3</th>\n",
       "      <th>X4</th>\n",
       "      <th>X5</th>\n",
       "      <th>X6</th>\n",
       "      <th>X7</th>\n",
       "      <th>X8</th>\n",
       "      <th>X9</th>\n",
       "      <th>X10</th>\n",
       "      <th>X11</th>\n",
       "      <th>X12</th>\n",
       "      <th>X13</th>\n",
       "      <th>X14</th>\n",
       "      <th>X15</th>\n",
       "      <th>X16</th>\n",
       "      <th>X17</th>\n",
       "      <th>X18</th>\n",
       "      <th>X19</th>\n",
       "      <th>X20</th>\n",
       "      <th>X21</th>\n",
       "      <th>X22</th>\n",
       "      <th>X23</th>\n",
       "      <th>X24</th>\n",
       "      <th>X25</th>\n",
       "      <th>X26</th>\n",
       "      <th>X27</th>\n",
       "      <th>X28</th>\n",
       "      <th>X29</th>\n",
       "      <th>X30</th>\n",
       "      <th>X31</th>\n",
       "      <th>X32</th>\n",
       "      <th>X33</th>\n",
       "      <th>X34</th>\n",
       "      <th>X35</th>\n",
       "      <th>X36</th>\n",
       "      <th>X37</th>\n",
       "      <th>X38</th>\n",
       "      <th>X39</th>\n",
       "      <th>X40</th>\n",
       "      <th>X41</th>\n",
       "      <th>X42</th>\n",
       "      <th>WIN</th>\n",
       "    </tr>\n",
       "  </thead>\n",
       "  <tbody>\n",
       "    <tr>\n",
       "      <th>0</th>\n",
       "      <td>b</td>\n",
       "      <td>b</td>\n",
       "      <td>b</td>\n",
       "      <td>b</td>\n",
       "      <td>b</td>\n",
       "      <td>b</td>\n",
       "      <td>b</td>\n",
       "      <td>b</td>\n",
       "      <td>b</td>\n",
       "      <td>b</td>\n",
       "      <td>b</td>\n",
       "      <td>b</td>\n",
       "      <td>x</td>\n",
       "      <td>o</td>\n",
       "      <td>b</td>\n",
       "      <td>b</td>\n",
       "      <td>b</td>\n",
       "      <td>b</td>\n",
       "      <td>x</td>\n",
       "      <td>o</td>\n",
       "      <td>x</td>\n",
       "      <td>o</td>\n",
       "      <td>x</td>\n",
       "      <td>o</td>\n",
       "      <td>b</td>\n",
       "      <td>b</td>\n",
       "      <td>b</td>\n",
       "      <td>b</td>\n",
       "      <td>b</td>\n",
       "      <td>b</td>\n",
       "      <td>b</td>\n",
       "      <td>b</td>\n",
       "      <td>b</td>\n",
       "      <td>b</td>\n",
       "      <td>b</td>\n",
       "      <td>b</td>\n",
       "      <td>b</td>\n",
       "      <td>b</td>\n",
       "      <td>b</td>\n",
       "      <td>b</td>\n",
       "      <td>b</td>\n",
       "      <td>b</td>\n",
       "      <td>2</td>\n",
       "    </tr>\n",
       "    <tr>\n",
       "      <th>1</th>\n",
       "      <td>b</td>\n",
       "      <td>b</td>\n",
       "      <td>b</td>\n",
       "      <td>b</td>\n",
       "      <td>b</td>\n",
       "      <td>b</td>\n",
       "      <td>b</td>\n",
       "      <td>b</td>\n",
       "      <td>b</td>\n",
       "      <td>b</td>\n",
       "      <td>b</td>\n",
       "      <td>b</td>\n",
       "      <td>x</td>\n",
       "      <td>b</td>\n",
       "      <td>b</td>\n",
       "      <td>b</td>\n",
       "      <td>b</td>\n",
       "      <td>b</td>\n",
       "      <td>x</td>\n",
       "      <td>o</td>\n",
       "      <td>x</td>\n",
       "      <td>o</td>\n",
       "      <td>x</td>\n",
       "      <td>o</td>\n",
       "      <td>o</td>\n",
       "      <td>b</td>\n",
       "      <td>b</td>\n",
       "      <td>b</td>\n",
       "      <td>b</td>\n",
       "      <td>b</td>\n",
       "      <td>b</td>\n",
       "      <td>b</td>\n",
       "      <td>b</td>\n",
       "      <td>b</td>\n",
       "      <td>b</td>\n",
       "      <td>b</td>\n",
       "      <td>b</td>\n",
       "      <td>b</td>\n",
       "      <td>b</td>\n",
       "      <td>b</td>\n",
       "      <td>b</td>\n",
       "      <td>b</td>\n",
       "      <td>2</td>\n",
       "    </tr>\n",
       "    <tr>\n",
       "      <th>2</th>\n",
       "      <td>b</td>\n",
       "      <td>b</td>\n",
       "      <td>b</td>\n",
       "      <td>b</td>\n",
       "      <td>b</td>\n",
       "      <td>b</td>\n",
       "      <td>o</td>\n",
       "      <td>b</td>\n",
       "      <td>b</td>\n",
       "      <td>b</td>\n",
       "      <td>b</td>\n",
       "      <td>b</td>\n",
       "      <td>x</td>\n",
       "      <td>b</td>\n",
       "      <td>b</td>\n",
       "      <td>b</td>\n",
       "      <td>b</td>\n",
       "      <td>b</td>\n",
       "      <td>x</td>\n",
       "      <td>o</td>\n",
       "      <td>x</td>\n",
       "      <td>o</td>\n",
       "      <td>x</td>\n",
       "      <td>o</td>\n",
       "      <td>b</td>\n",
       "      <td>b</td>\n",
       "      <td>b</td>\n",
       "      <td>b</td>\n",
       "      <td>b</td>\n",
       "      <td>b</td>\n",
       "      <td>b</td>\n",
       "      <td>b</td>\n",
       "      <td>b</td>\n",
       "      <td>b</td>\n",
       "      <td>b</td>\n",
       "      <td>b</td>\n",
       "      <td>b</td>\n",
       "      <td>b</td>\n",
       "      <td>b</td>\n",
       "      <td>b</td>\n",
       "      <td>b</td>\n",
       "      <td>b</td>\n",
       "      <td>2</td>\n",
       "    </tr>\n",
       "    <tr>\n",
       "      <th>3</th>\n",
       "      <td>b</td>\n",
       "      <td>b</td>\n",
       "      <td>b</td>\n",
       "      <td>b</td>\n",
       "      <td>b</td>\n",
       "      <td>b</td>\n",
       "      <td>b</td>\n",
       "      <td>b</td>\n",
       "      <td>b</td>\n",
       "      <td>b</td>\n",
       "      <td>b</td>\n",
       "      <td>b</td>\n",
       "      <td>x</td>\n",
       "      <td>b</td>\n",
       "      <td>b</td>\n",
       "      <td>b</td>\n",
       "      <td>b</td>\n",
       "      <td>b</td>\n",
       "      <td>x</td>\n",
       "      <td>o</td>\n",
       "      <td>x</td>\n",
       "      <td>o</td>\n",
       "      <td>x</td>\n",
       "      <td>o</td>\n",
       "      <td>b</td>\n",
       "      <td>b</td>\n",
       "      <td>b</td>\n",
       "      <td>b</td>\n",
       "      <td>b</td>\n",
       "      <td>b</td>\n",
       "      <td>o</td>\n",
       "      <td>b</td>\n",
       "      <td>b</td>\n",
       "      <td>b</td>\n",
       "      <td>b</td>\n",
       "      <td>b</td>\n",
       "      <td>b</td>\n",
       "      <td>b</td>\n",
       "      <td>b</td>\n",
       "      <td>b</td>\n",
       "      <td>b</td>\n",
       "      <td>b</td>\n",
       "      <td>2</td>\n",
       "    </tr>\n",
       "    <tr>\n",
       "      <th>4</th>\n",
       "      <td>o</td>\n",
       "      <td>b</td>\n",
       "      <td>b</td>\n",
       "      <td>b</td>\n",
       "      <td>b</td>\n",
       "      <td>b</td>\n",
       "      <td>b</td>\n",
       "      <td>b</td>\n",
       "      <td>b</td>\n",
       "      <td>b</td>\n",
       "      <td>b</td>\n",
       "      <td>b</td>\n",
       "      <td>x</td>\n",
       "      <td>b</td>\n",
       "      <td>b</td>\n",
       "      <td>b</td>\n",
       "      <td>b</td>\n",
       "      <td>b</td>\n",
       "      <td>x</td>\n",
       "      <td>o</td>\n",
       "      <td>x</td>\n",
       "      <td>o</td>\n",
       "      <td>x</td>\n",
       "      <td>o</td>\n",
       "      <td>b</td>\n",
       "      <td>b</td>\n",
       "      <td>b</td>\n",
       "      <td>b</td>\n",
       "      <td>b</td>\n",
       "      <td>b</td>\n",
       "      <td>b</td>\n",
       "      <td>b</td>\n",
       "      <td>b</td>\n",
       "      <td>b</td>\n",
       "      <td>b</td>\n",
       "      <td>b</td>\n",
       "      <td>b</td>\n",
       "      <td>b</td>\n",
       "      <td>b</td>\n",
       "      <td>b</td>\n",
       "      <td>b</td>\n",
       "      <td>b</td>\n",
       "      <td>2</td>\n",
       "    </tr>\n",
       "    <tr>\n",
       "      <th>...</th>\n",
       "      <td>...</td>\n",
       "      <td>...</td>\n",
       "      <td>...</td>\n",
       "      <td>...</td>\n",
       "      <td>...</td>\n",
       "      <td>...</td>\n",
       "      <td>...</td>\n",
       "      <td>...</td>\n",
       "      <td>...</td>\n",
       "      <td>...</td>\n",
       "      <td>...</td>\n",
       "      <td>...</td>\n",
       "      <td>...</td>\n",
       "      <td>...</td>\n",
       "      <td>...</td>\n",
       "      <td>...</td>\n",
       "      <td>...</td>\n",
       "      <td>...</td>\n",
       "      <td>...</td>\n",
       "      <td>...</td>\n",
       "      <td>...</td>\n",
       "      <td>...</td>\n",
       "      <td>...</td>\n",
       "      <td>...</td>\n",
       "      <td>...</td>\n",
       "      <td>...</td>\n",
       "      <td>...</td>\n",
       "      <td>...</td>\n",
       "      <td>...</td>\n",
       "      <td>...</td>\n",
       "      <td>...</td>\n",
       "      <td>...</td>\n",
       "      <td>...</td>\n",
       "      <td>...</td>\n",
       "      <td>...</td>\n",
       "      <td>...</td>\n",
       "      <td>...</td>\n",
       "      <td>...</td>\n",
       "      <td>...</td>\n",
       "      <td>...</td>\n",
       "      <td>...</td>\n",
       "      <td>...</td>\n",
       "      <td>...</td>\n",
       "    </tr>\n",
       "    <tr>\n",
       "      <th>67552</th>\n",
       "      <td>x</td>\n",
       "      <td>x</td>\n",
       "      <td>b</td>\n",
       "      <td>b</td>\n",
       "      <td>b</td>\n",
       "      <td>b</td>\n",
       "      <td>o</td>\n",
       "      <td>x</td>\n",
       "      <td>o</td>\n",
       "      <td>b</td>\n",
       "      <td>b</td>\n",
       "      <td>b</td>\n",
       "      <td>b</td>\n",
       "      <td>b</td>\n",
       "      <td>b</td>\n",
       "      <td>b</td>\n",
       "      <td>b</td>\n",
       "      <td>b</td>\n",
       "      <td>b</td>\n",
       "      <td>b</td>\n",
       "      <td>b</td>\n",
       "      <td>b</td>\n",
       "      <td>b</td>\n",
       "      <td>b</td>\n",
       "      <td>b</td>\n",
       "      <td>b</td>\n",
       "      <td>b</td>\n",
       "      <td>b</td>\n",
       "      <td>b</td>\n",
       "      <td>b</td>\n",
       "      <td>b</td>\n",
       "      <td>b</td>\n",
       "      <td>b</td>\n",
       "      <td>b</td>\n",
       "      <td>b</td>\n",
       "      <td>b</td>\n",
       "      <td>o</td>\n",
       "      <td>o</td>\n",
       "      <td>x</td>\n",
       "      <td>b</td>\n",
       "      <td>b</td>\n",
       "      <td>b</td>\n",
       "      <td>1</td>\n",
       "    </tr>\n",
       "    <tr>\n",
       "      <th>67553</th>\n",
       "      <td>x</td>\n",
       "      <td>x</td>\n",
       "      <td>b</td>\n",
       "      <td>b</td>\n",
       "      <td>b</td>\n",
       "      <td>b</td>\n",
       "      <td>o</td>\n",
       "      <td>b</td>\n",
       "      <td>b</td>\n",
       "      <td>b</td>\n",
       "      <td>b</td>\n",
       "      <td>b</td>\n",
       "      <td>b</td>\n",
       "      <td>b</td>\n",
       "      <td>b</td>\n",
       "      <td>b</td>\n",
       "      <td>b</td>\n",
       "      <td>b</td>\n",
       "      <td>b</td>\n",
       "      <td>b</td>\n",
       "      <td>b</td>\n",
       "      <td>b</td>\n",
       "      <td>b</td>\n",
       "      <td>b</td>\n",
       "      <td>b</td>\n",
       "      <td>b</td>\n",
       "      <td>b</td>\n",
       "      <td>b</td>\n",
       "      <td>b</td>\n",
       "      <td>b</td>\n",
       "      <td>b</td>\n",
       "      <td>b</td>\n",
       "      <td>b</td>\n",
       "      <td>b</td>\n",
       "      <td>b</td>\n",
       "      <td>b</td>\n",
       "      <td>o</td>\n",
       "      <td>x</td>\n",
       "      <td>o</td>\n",
       "      <td>o</td>\n",
       "      <td>x</td>\n",
       "      <td>b</td>\n",
       "      <td>0</td>\n",
       "    </tr>\n",
       "    <tr>\n",
       "      <th>67554</th>\n",
       "      <td>x</td>\n",
       "      <td>x</td>\n",
       "      <td>b</td>\n",
       "      <td>b</td>\n",
       "      <td>b</td>\n",
       "      <td>b</td>\n",
       "      <td>o</td>\n",
       "      <td>o</td>\n",
       "      <td>b</td>\n",
       "      <td>b</td>\n",
       "      <td>b</td>\n",
       "      <td>b</td>\n",
       "      <td>b</td>\n",
       "      <td>b</td>\n",
       "      <td>b</td>\n",
       "      <td>b</td>\n",
       "      <td>b</td>\n",
       "      <td>b</td>\n",
       "      <td>b</td>\n",
       "      <td>b</td>\n",
       "      <td>b</td>\n",
       "      <td>b</td>\n",
       "      <td>b</td>\n",
       "      <td>b</td>\n",
       "      <td>b</td>\n",
       "      <td>b</td>\n",
       "      <td>b</td>\n",
       "      <td>b</td>\n",
       "      <td>b</td>\n",
       "      <td>b</td>\n",
       "      <td>b</td>\n",
       "      <td>b</td>\n",
       "      <td>b</td>\n",
       "      <td>b</td>\n",
       "      <td>b</td>\n",
       "      <td>b</td>\n",
       "      <td>o</td>\n",
       "      <td>x</td>\n",
       "      <td>x</td>\n",
       "      <td>o</td>\n",
       "      <td>b</td>\n",
       "      <td>b</td>\n",
       "      <td>1</td>\n",
       "    </tr>\n",
       "    <tr>\n",
       "      <th>67555</th>\n",
       "      <td>x</td>\n",
       "      <td>o</td>\n",
       "      <td>b</td>\n",
       "      <td>b</td>\n",
       "      <td>b</td>\n",
       "      <td>b</td>\n",
       "      <td>o</td>\n",
       "      <td>b</td>\n",
       "      <td>b</td>\n",
       "      <td>b</td>\n",
       "      <td>b</td>\n",
       "      <td>b</td>\n",
       "      <td>b</td>\n",
       "      <td>b</td>\n",
       "      <td>b</td>\n",
       "      <td>b</td>\n",
       "      <td>b</td>\n",
       "      <td>b</td>\n",
       "      <td>b</td>\n",
       "      <td>b</td>\n",
       "      <td>b</td>\n",
       "      <td>b</td>\n",
       "      <td>b</td>\n",
       "      <td>b</td>\n",
       "      <td>b</td>\n",
       "      <td>b</td>\n",
       "      <td>b</td>\n",
       "      <td>b</td>\n",
       "      <td>b</td>\n",
       "      <td>b</td>\n",
       "      <td>b</td>\n",
       "      <td>b</td>\n",
       "      <td>b</td>\n",
       "      <td>b</td>\n",
       "      <td>b</td>\n",
       "      <td>b</td>\n",
       "      <td>o</td>\n",
       "      <td>x</td>\n",
       "      <td>o</td>\n",
       "      <td>x</td>\n",
       "      <td>x</td>\n",
       "      <td>b</td>\n",
       "      <td>0</td>\n",
       "    </tr>\n",
       "    <tr>\n",
       "      <th>67556</th>\n",
       "      <td>x</td>\n",
       "      <td>o</td>\n",
       "      <td>o</td>\n",
       "      <td>o</td>\n",
       "      <td>x</td>\n",
       "      <td>b</td>\n",
       "      <td>o</td>\n",
       "      <td>b</td>\n",
       "      <td>b</td>\n",
       "      <td>b</td>\n",
       "      <td>b</td>\n",
       "      <td>b</td>\n",
       "      <td>x</td>\n",
       "      <td>b</td>\n",
       "      <td>b</td>\n",
       "      <td>b</td>\n",
       "      <td>b</td>\n",
       "      <td>b</td>\n",
       "      <td>b</td>\n",
       "      <td>b</td>\n",
       "      <td>b</td>\n",
       "      <td>b</td>\n",
       "      <td>b</td>\n",
       "      <td>b</td>\n",
       "      <td>b</td>\n",
       "      <td>b</td>\n",
       "      <td>b</td>\n",
       "      <td>b</td>\n",
       "      <td>b</td>\n",
       "      <td>b</td>\n",
       "      <td>b</td>\n",
       "      <td>b</td>\n",
       "      <td>b</td>\n",
       "      <td>b</td>\n",
       "      <td>b</td>\n",
       "      <td>b</td>\n",
       "      <td>x</td>\n",
       "      <td>b</td>\n",
       "      <td>b</td>\n",
       "      <td>b</td>\n",
       "      <td>b</td>\n",
       "      <td>b</td>\n",
       "      <td>0</td>\n",
       "    </tr>\n",
       "  </tbody>\n",
       "</table>\n",
       "<p>67557 rows × 43 columns</p>\n",
       "</div>"
      ],
      "text/plain": [
       "      X1 X2 X3 X4 X5 X6 X7 X8 X9 X10 X11 X12 X13 X14 X15 X16 X17 X18 X19 X20  \\\n",
       "0      b  b  b  b  b  b  b  b  b   b   b   b   x   o   b   b   b   b   x   o   \n",
       "1      b  b  b  b  b  b  b  b  b   b   b   b   x   b   b   b   b   b   x   o   \n",
       "2      b  b  b  b  b  b  o  b  b   b   b   b   x   b   b   b   b   b   x   o   \n",
       "3      b  b  b  b  b  b  b  b  b   b   b   b   x   b   b   b   b   b   x   o   \n",
       "4      o  b  b  b  b  b  b  b  b   b   b   b   x   b   b   b   b   b   x   o   \n",
       "...   .. .. .. .. .. .. .. .. ..  ..  ..  ..  ..  ..  ..  ..  ..  ..  ..  ..   \n",
       "67552  x  x  b  b  b  b  o  x  o   b   b   b   b   b   b   b   b   b   b   b   \n",
       "67553  x  x  b  b  b  b  o  b  b   b   b   b   b   b   b   b   b   b   b   b   \n",
       "67554  x  x  b  b  b  b  o  o  b   b   b   b   b   b   b   b   b   b   b   b   \n",
       "67555  x  o  b  b  b  b  o  b  b   b   b   b   b   b   b   b   b   b   b   b   \n",
       "67556  x  o  o  o  x  b  o  b  b   b   b   b   x   b   b   b   b   b   b   b   \n",
       "\n",
       "      X21 X22 X23 X24 X25 X26 X27 X28 X29 X30 X31 X32 X33 X34 X35 X36 X37 X38  \\\n",
       "0       x   o   x   o   b   b   b   b   b   b   b   b   b   b   b   b   b   b   \n",
       "1       x   o   x   o   o   b   b   b   b   b   b   b   b   b   b   b   b   b   \n",
       "2       x   o   x   o   b   b   b   b   b   b   b   b   b   b   b   b   b   b   \n",
       "3       x   o   x   o   b   b   b   b   b   b   o   b   b   b   b   b   b   b   \n",
       "4       x   o   x   o   b   b   b   b   b   b   b   b   b   b   b   b   b   b   \n",
       "...    ..  ..  ..  ..  ..  ..  ..  ..  ..  ..  ..  ..  ..  ..  ..  ..  ..  ..   \n",
       "67552   b   b   b   b   b   b   b   b   b   b   b   b   b   b   b   b   o   o   \n",
       "67553   b   b   b   b   b   b   b   b   b   b   b   b   b   b   b   b   o   x   \n",
       "67554   b   b   b   b   b   b   b   b   b   b   b   b   b   b   b   b   o   x   \n",
       "67555   b   b   b   b   b   b   b   b   b   b   b   b   b   b   b   b   o   x   \n",
       "67556   b   b   b   b   b   b   b   b   b   b   b   b   b   b   b   b   x   b   \n",
       "\n",
       "      X39 X40 X41 X42  WIN  \n",
       "0       b   b   b   b    2  \n",
       "1       b   b   b   b    2  \n",
       "2       b   b   b   b    2  \n",
       "3       b   b   b   b    2  \n",
       "4       b   b   b   b    2  \n",
       "...    ..  ..  ..  ..  ...  \n",
       "67552   x   b   b   b    1  \n",
       "67553   o   o   x   b    0  \n",
       "67554   x   o   b   b    1  \n",
       "67555   o   x   x   b    0  \n",
       "67556   b   b   b   b    0  \n",
       "\n",
       "[67557 rows x 43 columns]"
      ]
     },
     "execution_count": 31,
     "metadata": {},
     "output_type": "execute_result"
    }
   ],
   "source": [
    "connect4.df"
   ]
  },
  {
   "cell_type": "code",
   "execution_count": 32,
   "metadata": {},
   "outputs": [
    {
     "data": {
      "text/plain": [
       "array([2, 2, 2, ..., 1, 0, 0])"
      ]
     },
     "execution_count": 32,
     "metadata": {},
     "output_type": "execute_result"
    }
   ],
   "source": [
    "connect4.target"
   ]
  },
  {
   "cell_type": "code",
   "execution_count": 33,
   "metadata": {},
   "outputs": [],
   "source": [
    "x_train, x_test, y_train, y_test = connect4.train_test_split()"
   ]
  },
  {
   "cell_type": "code",
   "execution_count": 34,
   "metadata": {},
   "outputs": [],
   "source": [
    "dt = DecisionTree()\n",
    "dt.fit(x_train, y_train)"
   ]
  },
  {
   "cell_type": "code",
   "execution_count": 35,
   "metadata": {},
   "outputs": [],
   "source": [
    "# dt.print_tree(connect4)"
   ]
  },
  {
   "cell_type": "code",
   "execution_count": 36,
   "metadata": {},
   "outputs": [],
   "source": [
    "# dt.visualize_tree(connect4)"
   ]
  },
  {
   "cell_type": "code",
   "execution_count": 37,
   "metadata": {},
   "outputs": [
    {
     "data": {
      "text/plain": [
       "0.923216815749963"
      ]
     },
     "execution_count": 37,
     "metadata": {},
     "output_type": "execute_result"
    }
   ],
   "source": [
    "# Treino\n",
    "y_pred = dt.predict(x_train)\n",
    "dt.score(y_pred, y_train)"
   ]
  },
  {
   "cell_type": "code",
   "execution_count": 38,
   "metadata": {},
   "outputs": [
    {
     "data": {
      "text/plain": [
       "0.7594730609828301"
      ]
     },
     "execution_count": 38,
     "metadata": {},
     "output_type": "execute_result"
    }
   ],
   "source": [
    "# Teste\n",
    "y_pred = dt.predict(x_test)\n",
    "dt.score(y_pred, y_test)"
   ]
  },
  {
   "cell_type": "markdown",
   "metadata": {},
   "source": [
    "---\n",
    "# REMOVE LATER"
   ]
  },
  {
   "cell_type": "markdown",
   "metadata": {},
   "source": [
    "___\n",
    "### Restaurant Dataset\n",
    "___"
   ]
  },
  {
   "cell_type": "code",
   "execution_count": null,
   "metadata": {},
   "outputs": [],
   "source": [
    "restaurant = Dataset(file_path='./Datasets/restaurant.csv')\n",
    "print(restaurant.df.shape, \"\\n\")\n",
    "restaurant.encoded_df.head()"
   ]
  },
  {
   "cell_type": "code",
   "execution_count": null,
   "metadata": {
    "scrolled": true
   },
   "outputs": [],
   "source": [
    "# restaurant.data\n",
    "# restaurant.target\n",
    "# restaurant.features_decoders\n",
    "# restaurant.cols"
   ]
  },
  {
   "cell_type": "code",
   "execution_count": null,
   "metadata": {},
   "outputs": [],
   "source": [
    "restaurant.Estimate_Holdout()"
   ]
  },
  {
   "cell_type": "code",
   "execution_count": null,
   "metadata": {
    "scrolled": true
   },
   "outputs": [],
   "source": [
    "restaurant.K_Fold_CV(3, DecisionTree)"
   ]
  },
  {
   "cell_type": "code",
   "execution_count": null,
   "metadata": {},
   "outputs": [],
   "source": [
    "(X_Train, X_Test, y_Train, y_Test) = restaurant.train_test_split(test_size=0.3)"
   ]
  },
  {
   "cell_type": "code",
   "execution_count": null,
   "metadata": {
    "scrolled": true
   },
   "outputs": [],
   "source": [
    "dt = DecisionTree()\n",
    "dt.fit(X_Train, y_Train)\n",
    "dt.print_tree(restaurant)\n",
    "dt.visualize_tree(restaurant)"
   ]
  },
  {
   "cell_type": "markdown",
   "metadata": {},
   "source": [
    "___\n",
    "### Weather Dataset\n",
    "___"
   ]
  },
  {
   "cell_type": "code",
   "execution_count": null,
   "metadata": {},
   "outputs": [],
   "source": [
    "weather = Dataset(file_path='./Datasets/weather.csv')\n",
    "print(weather.df.shape, \"\\n\")\n",
    "weather.df.head()"
   ]
  },
  {
   "cell_type": "code",
   "execution_count": null,
   "metadata": {},
   "outputs": [],
   "source": [
    "weather.encoded_df.head()"
   ]
  },
  {
   "cell_type": "code",
   "execution_count": null,
   "metadata": {},
   "outputs": [],
   "source": [
    "# weather.data\n",
    "# weather.target\n",
    "# weather.y_decoder\n",
    "# weather.cols"
   ]
  },
  {
   "cell_type": "code",
   "execution_count": null,
   "metadata": {},
   "outputs": [],
   "source": [
    "weather.Estimate_Holdout()"
   ]
  },
  {
   "cell_type": "code",
   "execution_count": null,
   "metadata": {},
   "outputs": [],
   "source": [
    "weather.K_Fold_CV(3, DecisionTree)"
   ]
  },
  {
   "cell_type": "code",
   "execution_count": null,
   "metadata": {},
   "outputs": [],
   "source": [
    "weather.df[[\"Weather\", \"Play\"]].value_counts(normalize=True)"
   ]
  },
  {
   "cell_type": "code",
   "execution_count": null,
   "metadata": {},
   "outputs": [],
   "source": [
    "(X_Train, X_Test, y_Train, y_Test) = weather.train_test_split(test_size=0.3)\n",
    "dt = DecisionTree()\n",
    "dt.fit(X_Train, y_Train)\n",
    "dt.visualize_tree(weather)"
   ]
  },
  {
   "cell_type": "code",
   "execution_count": null,
   "metadata": {},
   "outputs": [],
   "source": [
    "dt.print_tree(weather)"
   ]
  },
  {
   "cell_type": "markdown",
   "metadata": {},
   "source": [
    "___\n",
    "### Iris Dataset\n",
    "___"
   ]
  },
  {
   "cell_type": "code",
   "execution_count": null,
   "metadata": {},
   "outputs": [],
   "source": [
    "iris = Dataset(file_path='./Datasets/iris.csv')\n",
    "print(iris.df.shape, \"\\n\")\n",
    "iris.df.head()"
   ]
  },
  {
   "cell_type": "code",
   "execution_count": null,
   "metadata": {},
   "outputs": [],
   "source": [
    "iris.encoded_df.head()"
   ]
  },
  {
   "cell_type": "code",
   "execution_count": null,
   "metadata": {},
   "outputs": [],
   "source": [
    "# iris.data\n",
    "# iris.target\n",
    "# iris.y_decoder\n",
    "# iris.cols"
   ]
  },
  {
   "cell_type": "code",
   "execution_count": null,
   "metadata": {
    "scrolled": true
   },
   "outputs": [],
   "source": [
    "iris.Estimate_Holdout()"
   ]
  },
  {
   "cell_type": "code",
   "execution_count": null,
   "metadata": {},
   "outputs": [],
   "source": [
    "iris.K_Fold_CV(10, DecisionTree)"
   ]
  },
  {
   "cell_type": "code",
   "execution_count": null,
   "metadata": {},
   "outputs": [],
   "source": [
    "(X_Train, X_Test, y_Train, y_Test) = iris.train_test_split(test_size=0.3)\n",
    "dt = DecisionTree()\n",
    "dt.fit(X_Train, y_Train)\n",
    "dt.visualize_tree(iris)"
   ]
  },
  {
   "cell_type": "markdown",
   "metadata": {},
   "source": [
    "___\n",
    "### Connect-Four Dataset \n",
    "___"
   ]
  },
  {
   "cell_type": "code",
   "execution_count": null,
   "metadata": {
    "scrolled": true
   },
   "outputs": [],
   "source": [
    "C4 = Dataset(file_path='./Datasets/connect4.csv')\n",
    "print(C4.df.shape, \"\\n\")\n",
    "C4.df.head()"
   ]
  },
  {
   "cell_type": "code",
   "execution_count": null,
   "metadata": {},
   "outputs": [],
   "source": [
    "C4.encoded_df.head()"
   ]
  },
  {
   "cell_type": "code",
   "execution_count": null,
   "metadata": {},
   "outputs": [],
   "source": [
    "# C4.data\n",
    "# C4.target\n",
    "# C4.features_decoders\n",
    "# C4.cols"
   ]
  },
  {
   "cell_type": "code",
   "execution_count": null,
   "metadata": {
    "scrolled": true
   },
   "outputs": [],
   "source": [
    "C4.Estimate_Holdout()"
   ]
  },
  {
   "cell_type": "code",
   "execution_count": null,
   "metadata": {
    "scrolled": true
   },
   "outputs": [],
   "source": [
    "(X_Train, X_Test, y_Train, y_Test) = C4.train_test_split(test_size=0.3)\n",
    "dt = DecisionTree()\n",
    "dt.fit(X_Train, y_Train)"
   ]
  },
  {
   "cell_type": "markdown",
   "metadata": {},
   "source": [
    "---"
   ]
  },
  {
   "cell_type": "markdown",
   "metadata": {},
   "source": [
    "<div align=\"center\">\n",
    "\n",
    "***\n",
    "## Advantages and Disadvantages of ID3\n",
    "***\n",
    "</div>\n",
    "\n",
    "### __Advantages__\n",
    "\n",
    "- **Interpretability**: Decision Trees generated by ID3 are **easily interpretable**, making them usefull for explaining decisions to non-technical stakeholders\n",
    "- **Handles Categorical Data**: ID3 can effectively **handle categorical attributes** without explicit data preprocessing steps\n",
    "- **Not Computationally Expensive**: The Algorithm is relatively straightforward and **computationally less expensive** compared to some complex models\n",
    "\n",
    "### __Disadvantages__\n",
    "\n",
    "- **Overfitting**: ID3 tends to create complex trees that may **overfit over the training data**, impacting its performance upon new unseen information\n",
    "- **Sensitive to Noise**: Noise or outliers in the data can lead to the **creation of non-optimal or incorrect splits**\n",
    "- **Exclusive to Binary Trees**: ID3 only constructs **binary trees** which **limits** its ability to **express more complex relationships** within the data\n"
   ]
  },
  {
   "cell_type": "markdown",
   "metadata": {},
   "source": [
    "<div align=\"center\">\n",
    "\n",
    "***\n",
    "## Conclusion\n",
    "***\n",
    "</div>\n",
    "\n",
    "The **ID3 Algorithm** laid the groundwork for **decision tree learning**, providing a robust framework for understanding **attribute selection** and **recursive partitioning**. Despite its limitations, ID3's simplicity and interpretability have paved the way for more sophisticated algorithms that address its drawbacks while retaining its essence.\n",
    "\n",
    "As **Machine Learning** continues to evolve, the ID3 Algorithm remains a **crucial piece** in the mosaic of tree-based methods, serving as a stepping stone for developing **more advanced and accurate models** in the quest for **efficient data analysis and pattern recognition**.\n"
   ]
  },
  {
   "cell_type": "markdown",
   "metadata": {
    "jp-MarkdownHeadingCollapsed": true
   },
   "source": [
    "<div align=\"center\">\n",
    "\n",
    "***\n",
    "## Bibliographic References\n",
    "***\n",
    "</div>\n",
    "\n",
    "1. Geeks For Geeks (2023). *Decision Tree Algorithms*. Available [here](https://www.geeksforgeeks.org/decision-tree-algorithms/#id3-iterative-dichotomiser-3)\n",
    "2. Geeks For Geeks (2024). *Iteratice Dichotomiser 3 (ID3) Algorithm From Scratch*. Available [here](https://www.geeksforgeeks.org/iterative-dichotomiser-3-id3-algorithm-from-scratch/)"
   ]
  },
  {
   "cell_type": "markdown",
   "metadata": {},
   "source": [
    "___\n",
    "## Video Presentation (YouTube Video)\n",
    "\n",
    "Moreover, you can find the **Video** for our **Project's Presentation [here](https://youtu.be/dQw4w9WgXcQ?si=NfwpqDkOwLRY6tRQ)**\n",
    "___\n",
    "## Final Considerations\n",
    "\n",
    "$\\quad$ If there is any difficulty on downloading or executing this project, please contact us via:\n",
    "\n",
    "- **Email**:\n",
    "    - [Gonçalo Esteves](https://github.com/EstevesX10) &#8594; `up202203947@up.pt`\n",
    "    - [Maximino Canhola](https://github.com/MaximinoCanhola) &#8594; `up201909805@up.pt`\n",
    "    - [Nuno Gomes](https://github.com/NightF0x26) &#8594; `up202206195@up.pt`"
   ]
  }
 ],
 "metadata": {
  "kernelspec": {
   "display_name": "Python 3 (ipykernel)",
   "language": "python",
   "name": "python3"
  },
  "language_info": {
   "codemirror_mode": {
    "name": "ipython",
    "version": 3
   },
   "file_extension": ".py",
   "mimetype": "text/x-python",
   "name": "python",
   "nbconvert_exporter": "python",
   "pygments_lexer": "ipython3",
   "version": "3.10.0"
  }
 },
 "nbformat": 4,
 "nbformat_minor": 4
}
